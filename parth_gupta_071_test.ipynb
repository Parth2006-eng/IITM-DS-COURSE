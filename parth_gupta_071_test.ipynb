{
 "cells": [
  {
   "cell_type": "code",
   "execution_count": 1,
   "id": "2c0e3293-992e-41c0-b40f-a6e72c6b19b2",
   "metadata": {},
   "outputs": [
    {
     "data": {
      "text/plain": [
       "' list- a list is used to store multiple hetrogenous elements .\\n           it means it can store various datatypes in it \\n           it is mutuable,means it can be changed\\n           syntax - list_name = []\\n    \\n    tuple- a tuple is also used to sotre multiple hetrogenous elements,\\n            the main diffrence betweeen list and tuple is it is immutable,\\n            syntax - tuple_name = () '"
      ]
     },
     "execution_count": 1,
     "metadata": {},
     "output_type": "execute_result"
    }
   ],
   "source": [
    "\"\"\" list- a list is used to store multiple hetrogenous elements .\n",
    "           it means it can store various datatypes in it \n",
    "           it is mutuable,means it can be changed\n",
    "           syntax - list_name = []\n",
    "    \n",
    "    tuple- a tuple is also used to sotre multiple hetrogenous elements,\n",
    "            the main diffrence betweeen list and tuple is it is immutable,\n",
    "            syntax - tuple_name = () \"\"\"\n",
    "        "
   ]
  },
  {
   "cell_type": "code",
   "execution_count": null,
   "id": "adcb2ce4-49cc-40dc-8e27-f2b161085707",
   "metadata": {},
   "outputs": [],
   "source": [
    "\"\"\" input() function return string datatype\n",
    "if we want it to convert it to integer we use int\"\"\"\n",
    "a =  int(input(\"enter the no\"))\n",
    "print(a)"
   ]
  },
  {
   "cell_type": "code",
   "execution_count": null,
   "id": "3d1af1e3-2fc7-43e3-b9b2-caf48a7b7b00",
   "metadata": {},
   "outputs": [],
   "source": [
    "\"\"\" a dictionary is used to store values in key and values pair\n",
    "syntax - dictionary_name = {key1:value1,key2:value2,key3:value3}\"\"\"\n"
   ]
  },
  {
   "cell_type": "code",
   "execution_count": 2,
   "id": "16c0dc35-8608-4ffe-97a3-573489499a78",
   "metadata": {},
   "outputs": [
    {
     "name": "stdout",
     "output_type": "stream",
     "text": [
      "1\n",
      "2\n",
      "3\n",
      "4\n",
      "5\n"
     ]
    }
   ],
   "source": [
    "\"\"\"for loop is used to run the same code multiple times \"\"\"\n",
    "for i in range(1,6):\n",
    "    print(i)\n",
    "    "
   ]
  },
  {
   "cell_type": "code",
   "execution_count": 3,
   "id": "d030864a-1a00-4bd2-b5a6-cdea01d38821",
   "metadata": {},
   "outputs": [
    {
     "name": "stdout",
     "output_type": "stream",
     "text": [
      "cannot divide by zero\n",
      "code executed\n"
     ]
    }
   ],
   "source": [
    "\"\"\"exception handiling is used to hadle various kind of errors in python like value error ,type error etc.\n",
    "  try:- in this we write the code that we think error can be occured\n",
    "  except:-in this we wrtie the code that we want to run if error is occured\n",
    "  finally:-in this we write the code we want to use weather error is occured or not \n",
    "     \"\"\"\n",
    "try:\n",
    "    a = 100\n",
    "    print(a/0)\n",
    "except:\n",
    "    print(\"cannot divide by zero\")\n",
    "finally:\n",
    "    print(\"code executed\")"
   ]
  },
  {
   "cell_type": "code",
   "execution_count": 6,
   "id": "17159fed-2276-49d1-a9f8-9ea58ed4ec16",
   "metadata": {},
   "outputs": [
    {
     "name": "stdout",
     "output_type": "stream",
     "text": [
      "120\n",
      "2.23606797749979\n"
     ]
    }
   ],
   "source": [
    "\"\"\" python modulues are files in which varios varibale and funcitons are stored to to be furthered used\n",
    "    main diffrence between import math and from math import sqrt\n",
    "    that in first we import the entire module and in other we only import one function fromm it\n",
    "    \"\"\"\n",
    "import math\n",
    "a = math.factorial(5)\n",
    "print(a)\n",
    "from math import sqrt\n",
    "b = sqrt(5)\n",
    "print(b)"
   ]
  },
  {
   "cell_type": "code",
   "execution_count": 8,
   "id": "e9208c0a-71b4-4baf-82eb-2172e862b958",
   "metadata": {},
   "outputs": [
    {
     "name": "stdout",
     "output_type": "stream",
     "text": [
      "your name is parth\n"
     ]
    }
   ],
   "source": [
    "\"\"\" obeject oriented programming refers to  programming with the use of classes and funcitons\n",
    "    classes are used to store various variables and funciton \"\"\"\n",
    "class Parth:\n",
    "    def display(self,a):\n",
    "        print(f\"your name is {a}\")\n",
    "p = Parth()\n",
    "p.display(\"parth\")"
   ]
  },
  {
   "cell_type": "code",
   "execution_count": 14,
   "id": "e6765bf4-7b60-4ef3-b4bf-d00d7ca4724c",
   "metadata": {},
   "outputs": [
    {
     "name": "stdout",
     "output_type": "stream",
     "text": [
      "[None, None, None, None, None]\n"
     ]
    }
   ],
   "source": [
    "result = []\n",
    "result = [result.append(x*2) for x in range(10) if x%2==0]\n",
    "print(result)"
   ]
  },
  {
   "cell_type": "code",
   "execution_count": 17,
   "id": "c3ba80c0-b693-4098-a344-f4b7b651259b",
   "metadata": {},
   "outputs": [
    {
     "name": "stdout",
     "output_type": "stream",
     "text": [
      "78.5\n"
     ]
    }
   ],
   "source": [
    "def area(r):\n",
    "    c=0\n",
    "    c = 3.14 * r*r\n",
    "    return c\n",
    "d = area(5)\n",
    "print(d)"
   ]
  },
  {
   "cell_type": "code",
   "execution_count": 19,
   "id": "6ea98ebe-4ae6-4f08-bad2-79a3d186e68e",
   "metadata": {},
   "outputs": [
    {
     "name": "stdout",
     "output_type": "stream",
     "text": [
      "your name is parth ,you are 19\n"
     ]
    }
   ],
   "source": [
    "def display(a,b):\n",
    "    print(f\"your name is {a} ,you are {b}\")\n",
    "a = \"parth\"\n",
    "b = 19\n",
    "display(a,b)"
   ]
  },
  {
   "cell_type": "code",
   "execution_count": 20,
   "id": "0dd2f1c1-f543-4b98-969c-2d2606ed8f1b",
   "metadata": {},
   "outputs": [
    {
     "name": "stdout",
     "output_type": "stream",
     "text": [
      "position 0,fruit is apple\n",
      "position 1,fruit is mango\n",
      "position 2,fruit is banana\n",
      "position 3,fruit is grapes\n",
      "position 4,fruit is orange\n"
     ]
    }
   ],
   "source": [
    "fruits  = [\"apple\",\"mango\",\"banana\",\"grapes\",\"orange\"]\n",
    "for i in range(len(fruits)):\n",
    "    print(f\"position {i},fruit is {fruits[i]}\")"
   ]
  },
  {
   "cell_type": "code",
   "execution_count": 28,
   "id": "9b05de47-2952-4c08-bca9-d12326862f4c",
   "metadata": {},
   "outputs": [
    {
     "name": "stdout",
     "output_type": "stream",
     "text": [
      "your grade is 57 f\n"
     ]
    }
   ],
   "source": [
    "def grade_calculator(a):\n",
    "    if(a>=90<=100):\n",
    "        print(f\"your grade is {a} A\")\n",
    "    elif(a>=80<=89):\n",
    "        print(f\"your grade is {a} B\")\n",
    "    elif(a>=70<=79):\n",
    "        print(f\"your grade is {a} c\")\n",
    "    elif(a>=60<=69):\n",
    "        print(f\"your grade is {a} d\")\n",
    "    elif(a<60):\n",
    "        print(f\"your grade is {a} f\")\n",
    "grade_calculator(57)\n",
    "    \n",
    "    "
   ]
  },
  {
   "cell_type": "code",
   "execution_count": null,
   "id": "6f05e447-d834-477f-a9c0-a9df7dd66c64",
   "metadata": {},
   "outputs": [],
   "source": []
  },
  {
   "cell_type": "code",
   "execution_count": 43,
   "id": "22714d6d-ad56-4868-879f-fe39f7f748ea",
   "metadata": {},
   "outputs": [
    {
     "name": "stdout",
     "output_type": "stream",
     "text": [
      "your toal balance is 102500\n"
     ]
    }
   ],
   "source": [
    "class BankAccount:\n",
    "    name = \"parth\"\n",
    "    balance = 100000\n",
    "    def deposit(self,a):\n",
    "        bal = self.balance\n",
    "        bal = bal + a\n",
    "        self.balance = bal\n",
    "    def withdraw(self,a):\n",
    "        if(a<self.balance):\n",
    "            balance = self.balance\n",
    "            balance = balance - a\n",
    "            self.balance = balance\n",
    "        else:\n",
    "            print(\"insufficent balance\")\n",
    "    def display(self):\n",
    "        print(f\"your toal balance is {self.balance}\")\n",
    "d = BankAccount()\n",
    "d.deposit(5000)\n",
    "d.withdraw(2500)\n",
    "d.display()"
   ]
  },
  {
   "cell_type": "code",
   "execution_count": 57,
   "id": "9c2a4173-179c-4755-ada3-bc25f182fd88",
   "metadata": {},
   "outputs": [
    {
     "name": "stdout",
     "output_type": "stream",
     "text": [
      "1\n",
      "3\n",
      "5\n",
      "7\n",
      "9\n",
      "11\n",
      "13\n",
      "15\n",
      "17\n",
      "19\n",
      "21\n",
      "23\n",
      "25\n",
      "27\n",
      "29\n",
      "31\n",
      "33\n",
      "35\n",
      "37\n",
      "39\n",
      "41\n",
      "43\n",
      "45\n",
      "47\n",
      "49\n",
      "1\n",
      "2\n",
      "4\n",
      "5\n",
      "7\n",
      "8\n",
      "10\n",
      "11\n",
      "13\n",
      "14\n",
      "16\n",
      "17\n",
      "19\n",
      "20\n",
      "22\n",
      "23\n",
      "25\n",
      "26\n",
      "28\n",
      "29\n",
      "31\n",
      "32\n",
      "34\n",
      "35\n",
      "37\n",
      "38\n",
      "40\n",
      "41\n",
      "43\n",
      "44\n",
      "46\n",
      "47\n",
      "49\n",
      "50\n",
      "1\n",
      "2\n",
      "3\n",
      "5\n",
      "6\n",
      "7\n",
      "9\n",
      "10\n",
      "11\n",
      "13\n",
      "14\n",
      "15\n",
      "17\n",
      "18\n",
      "19\n",
      "21\n",
      "22\n",
      "23\n",
      "25\n",
      "26\n",
      "27\n",
      "29\n",
      "30\n",
      "31\n",
      "33\n",
      "34\n",
      "35\n",
      "37\n",
      "38\n",
      "39\n",
      "41\n",
      "42\n",
      "43\n",
      "45\n",
      "46\n",
      "47\n",
      "49\n",
      "50\n",
      "1\n",
      "2\n",
      "3\n",
      "4\n",
      "6\n",
      "7\n",
      "8\n",
      "9\n",
      "11\n",
      "12\n",
      "13\n",
      "14\n",
      "16\n",
      "17\n",
      "18\n",
      "19\n",
      "21\n",
      "22\n",
      "23\n",
      "24\n",
      "26\n",
      "27\n",
      "28\n",
      "29\n",
      "31\n",
      "32\n",
      "33\n",
      "34\n",
      "36\n",
      "37\n",
      "38\n",
      "39\n",
      "41\n",
      "42\n",
      "43\n",
      "44\n",
      "46\n",
      "47\n",
      "48\n",
      "49\n",
      "1\n",
      "2\n",
      "3\n",
      "4\n",
      "5\n",
      "7\n",
      "8\n",
      "9\n",
      "10\n",
      "11\n",
      "13\n",
      "14\n",
      "15\n",
      "16\n",
      "17\n",
      "19\n",
      "20\n",
      "21\n",
      "22\n",
      "23\n",
      "25\n",
      "26\n",
      "27\n",
      "28\n",
      "29\n",
      "31\n",
      "32\n",
      "33\n",
      "34\n",
      "35\n",
      "37\n",
      "38\n",
      "39\n",
      "40\n",
      "41\n",
      "43\n",
      "44\n",
      "45\n",
      "46\n",
      "47\n",
      "49\n",
      "50\n",
      "1\n",
      "2\n",
      "3\n",
      "4\n",
      "5\n",
      "6\n",
      "8\n",
      "9\n",
      "10\n",
      "11\n",
      "12\n",
      "13\n",
      "15\n",
      "16\n",
      "17\n",
      "18\n",
      "19\n",
      "20\n",
      "22\n",
      "23\n",
      "24\n",
      "25\n",
      "26\n",
      "27\n",
      "29\n",
      "30\n",
      "31\n",
      "32\n",
      "33\n",
      "34\n",
      "36\n",
      "37\n",
      "38\n",
      "39\n",
      "40\n",
      "41\n",
      "43\n",
      "44\n",
      "45\n",
      "46\n",
      "47\n",
      "48\n",
      "50\n",
      "1\n",
      "2\n",
      "3\n",
      "4\n",
      "5\n",
      "6\n",
      "7\n",
      "9\n",
      "10\n",
      "11\n",
      "12\n",
      "13\n",
      "14\n",
      "15\n",
      "17\n",
      "18\n",
      "19\n",
      "20\n",
      "21\n",
      "22\n",
      "23\n",
      "25\n",
      "26\n",
      "27\n",
      "28\n",
      "29\n",
      "30\n",
      "31\n",
      "33\n",
      "34\n",
      "35\n",
      "36\n",
      "37\n",
      "38\n",
      "39\n",
      "41\n",
      "42\n",
      "43\n",
      "44\n",
      "45\n",
      "46\n",
      "47\n",
      "49\n",
      "50\n",
      "1\n",
      "2\n",
      "3\n",
      "4\n",
      "5\n",
      "6\n",
      "7\n",
      "8\n",
      "10\n",
      "11\n",
      "12\n",
      "13\n",
      "14\n",
      "15\n",
      "16\n",
      "17\n",
      "19\n",
      "20\n",
      "21\n",
      "22\n",
      "23\n",
      "24\n",
      "25\n",
      "26\n",
      "28\n",
      "29\n",
      "30\n",
      "31\n",
      "32\n",
      "33\n",
      "34\n",
      "35\n",
      "37\n",
      "38\n",
      "39\n",
      "40\n",
      "41\n",
      "42\n",
      "43\n",
      "44\n",
      "46\n",
      "47\n",
      "48\n",
      "49\n",
      "50\n"
     ]
    }
   ],
   "source": [
    "def prime():\n",
    "    \n",
    "    for i in range(2,10):\n",
    "        for j in range(1,51):\n",
    "            if(j%i!=0):\n",
    "                print(j)\n",
    "                \n",
    "            \n",
    "                \n",
    "prime()\n"
   ]
  },
  {
   "cell_type": "code",
   "execution_count": null,
   "id": "a71b6042-066f-404c-9583-71e765bfc7e8",
   "metadata": {},
   "outputs": [],
   "source": []
  }
 ],
 "metadata": {
  "kernelspec": {
   "display_name": "Python [conda env:base] *",
   "language": "python",
   "name": "conda-base-py"
  },
  "language_info": {
   "codemirror_mode": {
    "name": "ipython",
    "version": 3
   },
   "file_extension": ".py",
   "mimetype": "text/x-python",
   "name": "python",
   "nbconvert_exporter": "python",
   "pygments_lexer": "ipython3",
   "version": "3.13.5"
  }
 },
 "nbformat": 4,
 "nbformat_minor": 5
}
