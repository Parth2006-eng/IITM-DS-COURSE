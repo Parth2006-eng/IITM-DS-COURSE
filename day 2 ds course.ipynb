{
 "cells": [
  {
   "cell_type": "code",
   "execution_count": 1,
   "id": "10724037-0703-4a0e-9cbe-c79b9a40af45",
   "metadata": {},
   "outputs": [
    {
     "name": "stdout",
     "output_type": "stream",
     "text": [
      "Collecting jupyterthemesNote: you may need to restart the kernel to use updated packages.\n",
      "\n",
      "  Downloading jupyterthemes-0.20.0-py2.py3-none-any.whl.metadata (1.0 kB)\n",
      "Requirement already satisfied: jupyter-core in c:\\users\\dell\\anaconda3\\lib\\site-packages (from jupyterthemes) (5.7.2)\n",
      "Requirement already satisfied: notebook>=5.6.0 in c:\\users\\dell\\anaconda3\\lib\\site-packages (from jupyterthemes) (7.3.2)\n",
      "Requirement already satisfied: ipython>=5.4.1 in c:\\users\\dell\\anaconda3\\lib\\site-packages (from jupyterthemes) (8.30.0)\n",
      "Requirement already satisfied: matplotlib>=1.4.3 in c:\\users\\dell\\anaconda3\\lib\\site-packages (from jupyterthemes) (3.10.0)\n",
      "Collecting lesscpy>=0.11.2 (from jupyterthemes)\n",
      "  Downloading lesscpy-0.15.1-py2.py3-none-any.whl.metadata (6.0 kB)\n",
      "Requirement already satisfied: decorator in c:\\users\\dell\\anaconda3\\lib\\site-packages (from ipython>=5.4.1->jupyterthemes) (5.1.1)\n",
      "Requirement already satisfied: jedi>=0.16 in c:\\users\\dell\\anaconda3\\lib\\site-packages (from ipython>=5.4.1->jupyterthemes) (0.19.2)\n",
      "Requirement already satisfied: matplotlib-inline in c:\\users\\dell\\anaconda3\\lib\\site-packages (from ipython>=5.4.1->jupyterthemes) (0.1.6)\n",
      "Requirement already satisfied: prompt-toolkit<3.1.0,>=3.0.41 in c:\\users\\dell\\anaconda3\\lib\\site-packages (from ipython>=5.4.1->jupyterthemes) (3.0.43)\n",
      "Requirement already satisfied: pygments>=2.4.0 in c:\\users\\dell\\anaconda3\\lib\\site-packages (from ipython>=5.4.1->jupyterthemes) (2.19.1)\n",
      "Requirement already satisfied: stack-data in c:\\users\\dell\\anaconda3\\lib\\site-packages (from ipython>=5.4.1->jupyterthemes) (0.2.0)\n",
      "Requirement already satisfied: traitlets>=5.13.0 in c:\\users\\dell\\anaconda3\\lib\\site-packages (from ipython>=5.4.1->jupyterthemes) (5.14.3)\n",
      "Requirement already satisfied: colorama in c:\\users\\dell\\anaconda3\\lib\\site-packages (from ipython>=5.4.1->jupyterthemes) (0.4.6)\n",
      "Requirement already satisfied: wcwidth in c:\\users\\dell\\anaconda3\\lib\\site-packages (from prompt-toolkit<3.1.0,>=3.0.41->ipython>=5.4.1->jupyterthemes) (0.2.5)\n",
      "Requirement already satisfied: parso<0.9.0,>=0.8.4 in c:\\users\\dell\\anaconda3\\lib\\site-packages (from jedi>=0.16->ipython>=5.4.1->jupyterthemes) (0.8.4)\n",
      "Requirement already satisfied: ply in c:\\users\\dell\\anaconda3\\lib\\site-packages (from lesscpy>=0.11.2->jupyterthemes) (3.11)\n",
      "Requirement already satisfied: contourpy>=1.0.1 in c:\\users\\dell\\anaconda3\\lib\\site-packages (from matplotlib>=1.4.3->jupyterthemes) (1.3.1)\n",
      "Requirement already satisfied: cycler>=0.10 in c:\\users\\dell\\anaconda3\\lib\\site-packages (from matplotlib>=1.4.3->jupyterthemes) (0.11.0)\n",
      "Requirement already satisfied: fonttools>=4.22.0 in c:\\users\\dell\\anaconda3\\lib\\site-packages (from matplotlib>=1.4.3->jupyterthemes) (4.55.3)\n",
      "Requirement already satisfied: kiwisolver>=1.3.1 in c:\\users\\dell\\anaconda3\\lib\\site-packages (from matplotlib>=1.4.3->jupyterthemes) (1.4.8)\n",
      "Requirement already satisfied: numpy>=1.23 in c:\\users\\dell\\anaconda3\\lib\\site-packages (from matplotlib>=1.4.3->jupyterthemes) (2.1.3)\n",
      "Requirement already satisfied: packaging>=20.0 in c:\\users\\dell\\anaconda3\\lib\\site-packages (from matplotlib>=1.4.3->jupyterthemes) (24.2)\n",
      "Requirement already satisfied: pillow>=8 in c:\\users\\dell\\anaconda3\\lib\\site-packages (from matplotlib>=1.4.3->jupyterthemes) (11.1.0)\n",
      "Requirement already satisfied: pyparsing>=2.3.1 in c:\\users\\dell\\anaconda3\\lib\\site-packages (from matplotlib>=1.4.3->jupyterthemes) (3.2.0)\n",
      "Requirement already satisfied: python-dateutil>=2.7 in c:\\users\\dell\\anaconda3\\lib\\site-packages (from matplotlib>=1.4.3->jupyterthemes) (2.9.0.post0)\n",
      "Requirement already satisfied: jupyter-server<3,>=2.4.0 in c:\\users\\dell\\anaconda3\\lib\\site-packages (from notebook>=5.6.0->jupyterthemes) (2.15.0)\n",
      "Requirement already satisfied: jupyterlab-server<3,>=2.27.1 in c:\\users\\dell\\anaconda3\\lib\\site-packages (from notebook>=5.6.0->jupyterthemes) (2.27.3)\n",
      "Requirement already satisfied: jupyterlab<4.4,>=4.3.4 in c:\\users\\dell\\anaconda3\\lib\\site-packages (from notebook>=5.6.0->jupyterthemes) (4.3.4)\n",
      "Requirement already satisfied: notebook-shim<0.3,>=0.2 in c:\\users\\dell\\anaconda3\\lib\\site-packages (from notebook>=5.6.0->jupyterthemes) (0.2.4)\n",
      "Requirement already satisfied: tornado>=6.2.0 in c:\\users\\dell\\anaconda3\\lib\\site-packages (from notebook>=5.6.0->jupyterthemes) (6.5.1)\n",
      "Requirement already satisfied: anyio>=3.1.0 in c:\\users\\dell\\anaconda3\\lib\\site-packages (from jupyter-server<3,>=2.4.0->notebook>=5.6.0->jupyterthemes) (4.7.0)\n",
      "Requirement already satisfied: argon2-cffi>=21.1 in c:\\users\\dell\\anaconda3\\lib\\site-packages (from jupyter-server<3,>=2.4.0->notebook>=5.6.0->jupyterthemes) (21.3.0)\n",
      "Requirement already satisfied: jinja2>=3.0.3 in c:\\users\\dell\\anaconda3\\lib\\site-packages (from jupyter-server<3,>=2.4.0->notebook>=5.6.0->jupyterthemes) (3.1.6)\n",
      "Requirement already satisfied: jupyter-client>=7.4.4 in c:\\users\\dell\\anaconda3\\lib\\site-packages (from jupyter-server<3,>=2.4.0->notebook>=5.6.0->jupyterthemes) (8.6.3)\n",
      "Requirement already satisfied: jupyter-events>=0.11.0 in c:\\users\\dell\\anaconda3\\lib\\site-packages (from jupyter-server<3,>=2.4.0->notebook>=5.6.0->jupyterthemes) (0.12.0)\n",
      "Requirement already satisfied: jupyter-server-terminals>=0.4.4 in c:\\users\\dell\\anaconda3\\lib\\site-packages (from jupyter-server<3,>=2.4.0->notebook>=5.6.0->jupyterthemes) (0.5.3)\n",
      "Requirement already satisfied: nbconvert>=6.4.4 in c:\\users\\dell\\anaconda3\\lib\\site-packages (from jupyter-server<3,>=2.4.0->notebook>=5.6.0->jupyterthemes) (7.16.6)\n",
      "Requirement already satisfied: nbformat>=5.3.0 in c:\\users\\dell\\anaconda3\\lib\\site-packages (from jupyter-server<3,>=2.4.0->notebook>=5.6.0->jupyterthemes) (5.10.4)\n",
      "Requirement already satisfied: overrides>=5.0 in c:\\users\\dell\\anaconda3\\lib\\site-packages (from jupyter-server<3,>=2.4.0->notebook>=5.6.0->jupyterthemes) (7.4.0)\n",
      "Requirement already satisfied: prometheus-client>=0.9 in c:\\users\\dell\\anaconda3\\lib\\site-packages (from jupyter-server<3,>=2.4.0->notebook>=5.6.0->jupyterthemes) (0.21.1)\n",
      "Requirement already satisfied: pywinpty>=2.0.1 in c:\\users\\dell\\anaconda3\\lib\\site-packages (from jupyter-server<3,>=2.4.0->notebook>=5.6.0->jupyterthemes) (2.0.15)\n",
      "Requirement already satisfied: pyzmq>=24 in c:\\users\\dell\\anaconda3\\lib\\site-packages (from jupyter-server<3,>=2.4.0->notebook>=5.6.0->jupyterthemes) (26.2.0)\n",
      "Requirement already satisfied: send2trash>=1.8.2 in c:\\users\\dell\\anaconda3\\lib\\site-packages (from jupyter-server<3,>=2.4.0->notebook>=5.6.0->jupyterthemes) (1.8.2)\n",
      "Requirement already satisfied: terminado>=0.8.3 in c:\\users\\dell\\anaconda3\\lib\\site-packages (from jupyter-server<3,>=2.4.0->notebook>=5.6.0->jupyterthemes) (0.17.1)\n",
      "Requirement already satisfied: websocket-client>=1.7 in c:\\users\\dell\\anaconda3\\lib\\site-packages (from jupyter-server<3,>=2.4.0->notebook>=5.6.0->jupyterthemes) (1.8.0)\n",
      "Requirement already satisfied: async-lru>=1.0.0 in c:\\users\\dell\\anaconda3\\lib\\site-packages (from jupyterlab<4.4,>=4.3.4->notebook>=5.6.0->jupyterthemes) (2.0.4)\n",
      "Requirement already satisfied: httpx>=0.25.0 in c:\\users\\dell\\anaconda3\\lib\\site-packages (from jupyterlab<4.4,>=4.3.4->notebook>=5.6.0->jupyterthemes) (0.28.1)\n",
      "Requirement already satisfied: ipykernel>=6.5.0 in c:\\users\\dell\\anaconda3\\lib\\site-packages (from jupyterlab<4.4,>=4.3.4->notebook>=5.6.0->jupyterthemes) (6.29.5)\n",
      "Requirement already satisfied: jupyter-lsp>=2.0.0 in c:\\users\\dell\\anaconda3\\lib\\site-packages (from jupyterlab<4.4,>=4.3.4->notebook>=5.6.0->jupyterthemes) (2.2.5)\n",
      "Requirement already satisfied: setuptools>=40.8.0 in c:\\users\\dell\\anaconda3\\lib\\site-packages (from jupyterlab<4.4,>=4.3.4->notebook>=5.6.0->jupyterthemes) (72.1.0)\n",
      "Requirement already satisfied: babel>=2.10 in c:\\users\\dell\\anaconda3\\lib\\site-packages (from jupyterlab-server<3,>=2.27.1->notebook>=5.6.0->jupyterthemes) (2.16.0)\n",
      "Requirement already satisfied: json5>=0.9.0 in c:\\users\\dell\\anaconda3\\lib\\site-packages (from jupyterlab-server<3,>=2.27.1->notebook>=5.6.0->jupyterthemes) (0.9.25)\n",
      "Requirement already satisfied: jsonschema>=4.18.0 in c:\\users\\dell\\anaconda3\\lib\\site-packages (from jupyterlab-server<3,>=2.27.1->notebook>=5.6.0->jupyterthemes) (4.23.0)\n",
      "Requirement already satisfied: requests>=2.31 in c:\\users\\dell\\anaconda3\\lib\\site-packages (from jupyterlab-server<3,>=2.27.1->notebook>=5.6.0->jupyterthemes) (2.32.3)\n",
      "Requirement already satisfied: idna>=2.8 in c:\\users\\dell\\anaconda3\\lib\\site-packages (from anyio>=3.1.0->jupyter-server<3,>=2.4.0->notebook>=5.6.0->jupyterthemes) (3.7)\n",
      "Requirement already satisfied: sniffio>=1.1 in c:\\users\\dell\\anaconda3\\lib\\site-packages (from anyio>=3.1.0->jupyter-server<3,>=2.4.0->notebook>=5.6.0->jupyterthemes) (1.3.0)\n",
      "Requirement already satisfied: argon2-cffi-bindings in c:\\users\\dell\\anaconda3\\lib\\site-packages (from argon2-cffi>=21.1->jupyter-server<3,>=2.4.0->notebook>=5.6.0->jupyterthemes) (21.2.0)\n",
      "Requirement already satisfied: certifi in c:\\users\\dell\\anaconda3\\lib\\site-packages (from httpx>=0.25.0->jupyterlab<4.4,>=4.3.4->notebook>=5.6.0->jupyterthemes) (2025.6.15)\n",
      "Requirement already satisfied: httpcore==1.* in c:\\users\\dell\\anaconda3\\lib\\site-packages (from httpx>=0.25.0->jupyterlab<4.4,>=4.3.4->notebook>=5.6.0->jupyterthemes) (1.0.9)\n",
      "Requirement already satisfied: h11>=0.16 in c:\\users\\dell\\anaconda3\\lib\\site-packages (from httpcore==1.*->httpx>=0.25.0->jupyterlab<4.4,>=4.3.4->notebook>=5.6.0->jupyterthemes) (0.16.0)\n",
      "Requirement already satisfied: comm>=0.1.1 in c:\\users\\dell\\anaconda3\\lib\\site-packages (from ipykernel>=6.5.0->jupyterlab<4.4,>=4.3.4->notebook>=5.6.0->jupyterthemes) (0.2.1)\n",
      "Requirement already satisfied: debugpy>=1.6.5 in c:\\users\\dell\\anaconda3\\lib\\site-packages (from ipykernel>=6.5.0->jupyterlab<4.4,>=4.3.4->notebook>=5.6.0->jupyterthemes) (1.8.11)\n",
      "Requirement already satisfied: nest-asyncio in c:\\users\\dell\\anaconda3\\lib\\site-packages (from ipykernel>=6.5.0->jupyterlab<4.4,>=4.3.4->notebook>=5.6.0->jupyterthemes) (1.6.0)\n",
      "Requirement already satisfied: psutil in c:\\users\\dell\\anaconda3\\lib\\site-packages (from ipykernel>=6.5.0->jupyterlab<4.4,>=4.3.4->notebook>=5.6.0->jupyterthemes) (5.9.0)\n",
      "Requirement already satisfied: MarkupSafe>=2.0 in c:\\users\\dell\\anaconda3\\lib\\site-packages (from jinja2>=3.0.3->jupyter-server<3,>=2.4.0->notebook>=5.6.0->jupyterthemes) (3.0.2)\n",
      "Requirement already satisfied: attrs>=22.2.0 in c:\\users\\dell\\anaconda3\\lib\\site-packages (from jsonschema>=4.18.0->jupyterlab-server<3,>=2.27.1->notebook>=5.6.0->jupyterthemes) (24.3.0)\n",
      "Requirement already satisfied: jsonschema-specifications>=2023.03.6 in c:\\users\\dell\\anaconda3\\lib\\site-packages (from jsonschema>=4.18.0->jupyterlab-server<3,>=2.27.1->notebook>=5.6.0->jupyterthemes) (2023.7.1)\n",
      "Requirement already satisfied: referencing>=0.28.4 in c:\\users\\dell\\anaconda3\\lib\\site-packages (from jsonschema>=4.18.0->jupyterlab-server<3,>=2.27.1->notebook>=5.6.0->jupyterthemes) (0.30.2)\n",
      "Requirement already satisfied: rpds-py>=0.7.1 in c:\\users\\dell\\anaconda3\\lib\\site-packages (from jsonschema>=4.18.0->jupyterlab-server<3,>=2.27.1->notebook>=5.6.0->jupyterthemes) (0.22.3)\n",
      "Requirement already satisfied: platformdirs>=2.5 in c:\\users\\dell\\anaconda3\\lib\\site-packages (from jupyter-core->jupyterthemes) (4.3.7)\n",
      "Requirement already satisfied: pywin32>=300 in c:\\users\\dell\\anaconda3\\lib\\site-packages (from jupyter-core->jupyterthemes) (308)\n",
      "Requirement already satisfied: python-json-logger>=2.0.4 in c:\\users\\dell\\anaconda3\\lib\\site-packages (from jupyter-events>=0.11.0->jupyter-server<3,>=2.4.0->notebook>=5.6.0->jupyterthemes) (3.2.1)\n",
      "Requirement already satisfied: pyyaml>=5.3 in c:\\users\\dell\\anaconda3\\lib\\site-packages (from jupyter-events>=0.11.0->jupyter-server<3,>=2.4.0->notebook>=5.6.0->jupyterthemes) (6.0.2)\n",
      "Requirement already satisfied: rfc3339-validator in c:\\users\\dell\\anaconda3\\lib\\site-packages (from jupyter-events>=0.11.0->jupyter-server<3,>=2.4.0->notebook>=5.6.0->jupyterthemes) (0.1.4)\n",
      "Requirement already satisfied: rfc3986-validator>=0.1.1 in c:\\users\\dell\\anaconda3\\lib\\site-packages (from jupyter-events>=0.11.0->jupyter-server<3,>=2.4.0->notebook>=5.6.0->jupyterthemes) (0.1.1)\n",
      "Collecting fqdn (from jsonschema[format-nongpl]>=4.18.0->jupyter-events>=0.11.0->jupyter-server<3,>=2.4.0->notebook>=5.6.0->jupyterthemes)\n",
      "  Downloading fqdn-1.5.1-py3-none-any.whl.metadata (1.4 kB)\n",
      "Collecting isoduration (from jsonschema[format-nongpl]>=4.18.0->jupyter-events>=0.11.0->jupyter-server<3,>=2.4.0->notebook>=5.6.0->jupyterthemes)\n",
      "  Downloading isoduration-20.11.0-py3-none-any.whl.metadata (5.7 kB)\n",
      "Requirement already satisfied: jsonpointer>1.13 in c:\\users\\dell\\anaconda3\\lib\\site-packages (from jsonschema[format-nongpl]>=4.18.0->jupyter-events>=0.11.0->jupyter-server<3,>=2.4.0->notebook>=5.6.0->jupyterthemes) (2.1)\n",
      "Collecting uri-template (from jsonschema[format-nongpl]>=4.18.0->jupyter-events>=0.11.0->jupyter-server<3,>=2.4.0->notebook>=5.6.0->jupyterthemes)\n",
      "  Downloading uri_template-1.3.0-py3-none-any.whl.metadata (8.8 kB)\n",
      "Collecting webcolors>=24.6.0 (from jsonschema[format-nongpl]>=4.18.0->jupyter-events>=0.11.0->jupyter-server<3,>=2.4.0->notebook>=5.6.0->jupyterthemes)\n",
      "  Downloading webcolors-24.11.1-py3-none-any.whl.metadata (2.2 kB)\n",
      "Requirement already satisfied: beautifulsoup4 in c:\\users\\dell\\anaconda3\\lib\\site-packages (from nbconvert>=6.4.4->jupyter-server<3,>=2.4.0->notebook>=5.6.0->jupyterthemes) (4.12.3)\n",
      "Requirement already satisfied: bleach!=5.0.0 in c:\\users\\dell\\anaconda3\\lib\\site-packages (from bleach[css]!=5.0.0->nbconvert>=6.4.4->jupyter-server<3,>=2.4.0->notebook>=5.6.0->jupyterthemes) (6.2.0)\n",
      "Requirement already satisfied: defusedxml in c:\\users\\dell\\anaconda3\\lib\\site-packages (from nbconvert>=6.4.4->jupyter-server<3,>=2.4.0->notebook>=5.6.0->jupyterthemes) (0.7.1)\n",
      "Requirement already satisfied: jupyterlab-pygments in c:\\users\\dell\\anaconda3\\lib\\site-packages (from nbconvert>=6.4.4->jupyter-server<3,>=2.4.0->notebook>=5.6.0->jupyterthemes) (0.3.0)\n",
      "Requirement already satisfied: mistune<4,>=2.0.3 in c:\\users\\dell\\anaconda3\\lib\\site-packages (from nbconvert>=6.4.4->jupyter-server<3,>=2.4.0->notebook>=5.6.0->jupyterthemes) (3.1.2)\n",
      "Requirement already satisfied: nbclient>=0.5.0 in c:\\users\\dell\\anaconda3\\lib\\site-packages (from nbconvert>=6.4.4->jupyter-server<3,>=2.4.0->notebook>=5.6.0->jupyterthemes) (0.10.2)\n",
      "Requirement already satisfied: pandocfilters>=1.4.1 in c:\\users\\dell\\anaconda3\\lib\\site-packages (from nbconvert>=6.4.4->jupyter-server<3,>=2.4.0->notebook>=5.6.0->jupyterthemes) (1.5.0)\n",
      "Requirement already satisfied: webencodings in c:\\users\\dell\\anaconda3\\lib\\site-packages (from bleach!=5.0.0->bleach[css]!=5.0.0->nbconvert>=6.4.4->jupyter-server<3,>=2.4.0->notebook>=5.6.0->jupyterthemes) (0.5.1)\n",
      "Requirement already satisfied: tinycss2<1.5,>=1.1.0 in c:\\users\\dell\\anaconda3\\lib\\site-packages (from bleach[css]!=5.0.0->nbconvert>=6.4.4->jupyter-server<3,>=2.4.0->notebook>=5.6.0->jupyterthemes) (1.4.0)\n",
      "Requirement already satisfied: fastjsonschema>=2.15 in c:\\users\\dell\\anaconda3\\lib\\site-packages (from nbformat>=5.3.0->jupyter-server<3,>=2.4.0->notebook>=5.6.0->jupyterthemes) (2.20.0)\n",
      "Requirement already satisfied: six>=1.5 in c:\\users\\dell\\anaconda3\\lib\\site-packages (from python-dateutil>=2.7->matplotlib>=1.4.3->jupyterthemes) (1.17.0)\n",
      "Requirement already satisfied: charset-normalizer<4,>=2 in c:\\users\\dell\\anaconda3\\lib\\site-packages (from requests>=2.31->jupyterlab-server<3,>=2.27.1->notebook>=5.6.0->jupyterthemes) (3.3.2)\n",
      "Requirement already satisfied: urllib3<3,>=1.21.1 in c:\\users\\dell\\anaconda3\\lib\\site-packages (from requests>=2.31->jupyterlab-server<3,>=2.27.1->notebook>=5.6.0->jupyterthemes) (2.3.0)\n",
      "Requirement already satisfied: cffi>=1.0.1 in c:\\users\\dell\\anaconda3\\lib\\site-packages (from argon2-cffi-bindings->argon2-cffi>=21.1->jupyter-server<3,>=2.4.0->notebook>=5.6.0->jupyterthemes) (1.17.1)\n",
      "Requirement already satisfied: pycparser in c:\\users\\dell\\anaconda3\\lib\\site-packages (from cffi>=1.0.1->argon2-cffi-bindings->argon2-cffi>=21.1->jupyter-server<3,>=2.4.0->notebook>=5.6.0->jupyterthemes) (2.21)\n",
      "Requirement already satisfied: soupsieve>1.2 in c:\\users\\dell\\anaconda3\\lib\\site-packages (from beautifulsoup4->nbconvert>=6.4.4->jupyter-server<3,>=2.4.0->notebook>=5.6.0->jupyterthemes) (2.5)\n",
      "Requirement already satisfied: arrow>=0.15.0 in c:\\users\\dell\\anaconda3\\lib\\site-packages (from isoduration->jsonschema[format-nongpl]>=4.18.0->jupyter-events>=0.11.0->jupyter-server<3,>=2.4.0->notebook>=5.6.0->jupyterthemes) (1.3.0)\n",
      "Requirement already satisfied: executing in c:\\users\\dell\\anaconda3\\lib\\site-packages (from stack-data->ipython>=5.4.1->jupyterthemes) (0.8.3)\n",
      "Requirement already satisfied: asttokens in c:\\users\\dell\\anaconda3\\lib\\site-packages (from stack-data->ipython>=5.4.1->jupyterthemes) (3.0.0)\n",
      "Requirement already satisfied: pure-eval in c:\\users\\dell\\anaconda3\\lib\\site-packages (from stack-data->ipython>=5.4.1->jupyterthemes) (0.2.2)\n",
      "Downloading jupyterthemes-0.20.0-py2.py3-none-any.whl (7.0 MB)\n",
      "   ---------------------------------------- 0.0/7.0 MB ? eta -:--:--\n",
      "   ---------------------------------------- 0.0/7.0 MB ? eta -:--:--\n",
      "   - -------------------------------------- 0.3/7.0 MB ? eta -:--:--\n",
      "   - -------------------------------------- 0.3/7.0 MB ? eta -:--:--\n",
      "   -- ------------------------------------- 0.5/7.0 MB 811.1 kB/s eta 0:00:09\n",
      "   ---- ----------------------------------- 0.8/7.0 MB 965.3 kB/s eta 0:00:07\n",
      "   ----- ---------------------------------- 1.0/7.0 MB 1.0 MB/s eta 0:00:06\n",
      "   ----- ---------------------------------- 1.0/7.0 MB 1.0 MB/s eta 0:00:06\n",
      "   ------- -------------------------------- 1.3/7.0 MB 923.7 kB/s eta 0:00:07\n",
      "   -------- ------------------------------- 1.6/7.0 MB 923.7 kB/s eta 0:00:06\n",
      "   -------- ------------------------------- 1.6/7.0 MB 923.7 kB/s eta 0:00:06\n",
      "   ---------- ----------------------------- 1.8/7.0 MB 891.8 kB/s eta 0:00:06\n",
      "   ---------- ----------------------------- 1.8/7.0 MB 891.8 kB/s eta 0:00:06\n",
      "   ----------- ---------------------------- 2.1/7.0 MB 819.5 kB/s eta 0:00:07\n",
      "   ----------- ---------------------------- 2.1/7.0 MB 819.5 kB/s eta 0:00:07\n",
      "   ----------- ---------------------------- 2.1/7.0 MB 819.5 kB/s eta 0:00:07\n",
      "   ------------- -------------------------- 2.4/7.0 MB 709.8 kB/s eta 0:00:07\n",
      "   ------------- -------------------------- 2.4/7.0 MB 709.8 kB/s eta 0:00:07\n",
      "   -------------- ------------------------- 2.6/7.0 MB 711.8 kB/s eta 0:00:07\n",
      "   ---------------- ----------------------- 2.9/7.0 MB 741.1 kB/s eta 0:00:06\n",
      "   ---------------- ----------------------- 2.9/7.0 MB 741.1 kB/s eta 0:00:06\n",
      "   ----------------- ---------------------- 3.1/7.0 MB 745.0 kB/s eta 0:00:06\n",
      "   ----------------- ---------------------- 3.1/7.0 MB 745.0 kB/s eta 0:00:06\n",
      "   ------------------- -------------------- 3.4/7.0 MB 705.5 kB/s eta 0:00:06\n",
      "   ------------------- -------------------- 3.4/7.0 MB 705.5 kB/s eta 0:00:06\n",
      "   ------------------- -------------------- 3.4/7.0 MB 705.5 kB/s eta 0:00:06\n",
      "   -------------------- ------------------- 3.7/7.0 MB 674.7 kB/s eta 0:00:05\n",
      "   -------------------- ------------------- 3.7/7.0 MB 674.7 kB/s eta 0:00:05\n",
      "   -------------------- ------------------- 3.7/7.0 MB 674.7 kB/s eta 0:00:05\n",
      "   ---------------------- ----------------- 3.9/7.0 MB 653.2 kB/s eta 0:00:05\n",
      "   ---------------------- ----------------- 3.9/7.0 MB 653.2 kB/s eta 0:00:05\n",
      "   ----------------------- ---------------- 4.2/7.0 MB 645.7 kB/s eta 0:00:05\n",
      "   ----------------------- ---------------- 4.2/7.0 MB 645.7 kB/s eta 0:00:05\n",
      "   ----------------------- ---------------- 4.2/7.0 MB 645.7 kB/s eta 0:00:05\n",
      "   ------------------------- -------------- 4.5/7.0 MB 634.2 kB/s eta 0:00:05\n",
      "   ------------------------- -------------- 4.5/7.0 MB 634.2 kB/s eta 0:00:05\n",
      "   ------------------------- -------------- 4.5/7.0 MB 634.2 kB/s eta 0:00:05\n",
      "   -------------------------- ------------- 4.7/7.0 MB 620.8 kB/s eta 0:00:04\n",
      "   -------------------------- ------------- 4.7/7.0 MB 620.8 kB/s eta 0:00:04\n",
      "   ---------------------------- ----------- 5.0/7.0 MB 606.9 kB/s eta 0:00:04\n",
      "   ---------------------------- ----------- 5.0/7.0 MB 606.9 kB/s eta 0:00:04\n",
      "   ---------------------------- ----------- 5.0/7.0 MB 606.9 kB/s eta 0:00:04\n",
      "   ----------------------------- ---------- 5.2/7.0 MB 600.3 kB/s eta 0:00:03\n",
      "   ----------------------------- ---------- 5.2/7.0 MB 600.3 kB/s eta 0:00:03\n",
      "   ----------------------------- ---------- 5.2/7.0 MB 600.3 kB/s eta 0:00:03\n",
      "   ------------------------------- -------- 5.5/7.0 MB 593.5 kB/s eta 0:00:03\n",
      "   ------------------------------- -------- 5.5/7.0 MB 593.5 kB/s eta 0:00:03\n",
      "   -------------------------------- ------- 5.8/7.0 MB 588.9 kB/s eta 0:00:03\n",
      "   -------------------------------- ------- 5.8/7.0 MB 588.9 kB/s eta 0:00:03\n",
      "   ---------------------------------- ----- 6.0/7.0 MB 592.6 kB/s eta 0:00:02\n",
      "   ----------------------------------- ---- 6.3/7.0 MB 599.9 kB/s eta 0:00:02\n",
      "   ----------------------------------- ---- 6.3/7.0 MB 599.9 kB/s eta 0:00:02\n",
      "   ------------------------------------- -- 6.6/7.0 MB 608.9 kB/s eta 0:00:01\n",
      "   ------------------------------------- -- 6.6/7.0 MB 608.9 kB/s eta 0:00:01\n",
      "   -------------------------------------- - 6.8/7.0 MB 604.9 kB/s eta 0:00:01\n",
      "   -------------------------------------- - 6.8/7.0 MB 604.9 kB/s eta 0:00:01\n",
      "   ---------------------------------------- 7.0/7.0 MB 602.5 kB/s eta 0:00:00\n",
      "Downloading lesscpy-0.15.1-py2.py3-none-any.whl (46 kB)\n",
      "Downloading webcolors-24.11.1-py3-none-any.whl (14 kB)\n",
      "Downloading fqdn-1.5.1-py3-none-any.whl (9.1 kB)\n",
      "Downloading isoduration-20.11.0-py3-none-any.whl (11 kB)\n",
      "Downloading uri_template-1.3.0-py3-none-any.whl (11 kB)\n",
      "Installing collected packages: webcolors, uri-template, lesscpy, fqdn, isoduration, jupyterthemes\n",
      "\n",
      "   -------------------------- ------------- 4/6 [isoduration]\n",
      "   --------------------------------- ------ 5/6 [jupyterthemes]\n",
      "   ---------------------------------------- 6/6 [jupyterthemes]\n",
      "\n",
      "Successfully installed fqdn-1.5.1 isoduration-20.11.0 jupyterthemes-0.20.0 lesscpy-0.15.1 uri-template-1.3.0 webcolors-24.11.1\n"
     ]
    }
   ],
   "source": [
    "\n",
    "\n",
    "pip install jupyterthemes"
   ]
  },
  {
   "cell_type": "code",
   "execution_count": 2,
   "id": "1ff55964-6998-4d62-844f-46ab2836f95e",
   "metadata": {},
   "outputs": [
    {
     "ename": "SyntaxError",
     "evalue": "invalid syntax (2305412346.py, line 1)",
     "output_type": "error",
     "traceback": [
      "\u001b[1;36m  Cell \u001b[1;32mIn[2], line 1\u001b[1;36m\u001b[0m\n\u001b[1;33m    jt -t grade3\u001b[0m\n\u001b[1;37m          ^\u001b[0m\n\u001b[1;31mSyntaxError\u001b[0m\u001b[1;31m:\u001b[0m invalid syntax\n"
     ]
    }
   ],
   "source": [
    "jt -t grade3\n"
   ]
  },
  {
   "cell_type": "code",
   "execution_count": 3,
   "id": "f536073d-5ed4-450c-9063-8757f0fe0d19",
   "metadata": {},
   "outputs": [
    {
     "ename": "SyntaxError",
     "evalue": "invalid syntax (2488892531.py, line 1)",
     "output_type": "error",
     "traceback": [
      "\u001b[1;36m  Cell \u001b[1;32mIn[3], line 1\u001b[1;36m\u001b[0m\n\u001b[1;33m    jt -t <grade3>\u001b[0m\n\u001b[1;37m                  ^\u001b[0m\n\u001b[1;31mSyntaxError\u001b[0m\u001b[1;31m:\u001b[0m invalid syntax\n"
     ]
    }
   ],
   "source": [
    "jt -t <grade3>"
   ]
  },
  {
   "cell_type": "code",
   "execution_count": 4,
   "id": "3d522876-d0bd-48ba-90ce-e66e8a22a283",
   "metadata": {},
   "outputs": [
    {
     "ename": "SyntaxError",
     "evalue": "invalid syntax (2205263004.py, line 1)",
     "output_type": "error",
     "traceback": [
      "\u001b[1;36m  Cell \u001b[1;32mIn[4], line 1\u001b[1;36m\u001b[0m\n\u001b[1;33m    jt -t onedork\u001b[0m\n\u001b[1;37m          ^\u001b[0m\n\u001b[1;31mSyntaxError\u001b[0m\u001b[1;31m:\u001b[0m invalid syntax\n"
     ]
    }
   ],
   "source": [
    "jt -t onedork"
   ]
  },
  {
   "cell_type": "code",
   "execution_count": 17,
   "id": "7bad32f1-3b0b-4e76-b3cc-852dc7c28c35",
   "metadata": {},
   "outputs": [
    {
     "name": "stdin",
     "output_type": "stream",
     "text": [
      "enter the name 123\n"
     ]
    },
    {
     "name": "stdout",
     "output_type": "stream",
     "text": [
      "invalid\n"
     ]
    }
   ],
   "source": [
    "def palindrome(str):\n",
    "    \n",
    "    if type(str)==int:\n",
    "        print(\"invalid\")\n",
    "    else:\n",
    "        rev = str[::-1]\n",
    "        if rev==str:\n",
    "            print(f\"{str} it is a plaindrome\")\n",
    "        else:\n",
    "            print(\"it is not\")\n",
    "\n",
    "    \n",
    "\n",
    "a = int(input(\"enter the name\"))\n",
    "palindrome(a)"
   ]
  },
  {
   "cell_type": "code",
   "execution_count": 26,
   "id": "b3fc05b2-b644-44a4-b615-158c80e7cf46",
   "metadata": {},
   "outputs": [
    {
     "name": "stdin",
     "output_type": "stream",
     "text": [
      "enter the number 10\n"
     ]
    },
    {
     "name": "stdout",
     "output_type": "stream",
     "text": [
      "[0, 1, 1, 2, 3, 5, 8, 13, 21, 34, 55, 89]\n"
     ]
    }
   ],
   "source": [
    "\n",
    "def fibo:\n",
    "    a = int(input(\"enter the number\"))\n",
    "    \n",
    "    b = [0,1]\n",
    "    \n",
    "    for i in range(a):\n",
    "        d = b[i] + b[i+1]\n",
    "        b.append(d)\n",
    "    print(b)\n",
    "\n",
    "\n",
    "    "
   ]
  },
  {
   "cell_type": "code",
   "execution_count": 67,
   "id": "64f4cec5-847f-4206-9ea3-95ac69796b2f",
   "metadata": {},
   "outputs": [],
   "source": [
    "def prime(a):\n",
    "    for i in range(2,a-1):\n",
    "        if(a%i==0):\n",
    "            return \"it is not prime\"\n",
    "            break\n",
    "        else:\n",
    "          return \"itis  prime\"\n",
    "            \n",
    "        "
   ]
  },
  {
   "cell_type": "code",
   "execution_count": 65,
   "id": "31930930-89bc-43ea-ad32-3818a0bc20fd",
   "metadata": {},
   "outputs": [
    {
     "data": {
      "text/plain": [
       "'it is  prime'"
      ]
     },
     "execution_count": 65,
     "metadata": {},
     "output_type": "execute_result"
    }
   ],
   "source": []
  },
  {
   "cell_type": "code",
   "execution_count": 68,
   "id": "b14d7405-9563-436b-99b1-ef361070d297",
   "metadata": {},
   "outputs": [
    {
     "data": {
      "text/plain": [
       "'itis  prime'"
      ]
     },
     "execution_count": 68,
     "metadata": {},
     "output_type": "execute_result"
    }
   ],
   "source": [
    "prime(9)\n"
   ]
  },
  {
   "cell_type": "code",
   "execution_count": 73,
   "id": "4861c8e3-6388-4438-84c3-faa9d36dd0f9",
   "metadata": {},
   "outputs": [
    {
     "name": "stdout",
     "output_type": "stream",
     "text": [
      "*\n",
      "**\n",
      "***\n",
      "****\n",
      "*****\n"
     ]
    }
   ],
   "source": [
    "a = 5\n",
    "for i in range(0,a):\n",
    "    for j in range(0,i+1):\n",
    "        print(\"*\",end=\"\")\n",
    "    print()\n",
    "    "
   ]
  },
  {
   "cell_type": "code",
   "execution_count": 101,
   "id": "8f437dfb-0e93-4faa-b4bb-75fdc164f195",
   "metadata": {},
   "outputs": [],
   "source": [
    "\n",
    "def pattern(w,s):\n",
    "    w.lower()\n",
    "\n",
    "\n",
    "    a = s\n",
    "    d =a\n",
    "    c=\" \"\n",
    "    if(w==\"right\"):\n",
    "        for i in range(0,a+1):\n",
    "         print(c*d,end=\"\")\n",
    "         d = d-1\n",
    "         print(\"*\"*i)\n",
    "    elif(w==\"left\"):\n",
    "        for i in range(0,a+1):\n",
    "\n",
    "        \n",
    "          print(\"*\"*i)\n",
    "    "
   ]
  },
  {
   "cell_type": "code",
   "execution_count": 102,
   "id": "d7b741ae-1a6b-45da-af30-acc8362a64d4",
   "metadata": {},
   "outputs": [
    {
     "name": "stdout",
     "output_type": "stream",
     "text": [
      "\n",
      "*\n",
      "**\n",
      "***\n",
      "****\n",
      "*****\n"
     ]
    }
   ],
   "source": [
    "w = \"left\"\n",
    "s =5\n",
    "pattern(w,s)"
   ]
  },
  {
   "cell_type": "code",
   "execution_count": 120,
   "id": "a6f7daee-07ab-47be-8de2-0898fb709d3e",
   "metadata": {},
   "outputs": [
    {
     "ename": "IndentationError",
     "evalue": "unindent does not match any outer indentation level (<string>, line 6)",
     "output_type": "error",
     "traceback": [
      "\u001b[1;36m  File \u001b[1;32m<string>:6\u001b[1;36m\u001b[0m\n\u001b[1;33m    return d\u001b[0m\n\u001b[1;37m            ^\u001b[0m\n\u001b[1;31mIndentationError\u001b[0m\u001b[1;31m:\u001b[0m unindent does not match any outer indentation level\n"
     ]
    }
   ],
   "source": [
    " def factorial(a):\n",
    "     d= 1\n",
    "     for i in range(0,a):\n",
    "\n",
    "        d = d*i\n",
    "     return d\n",
    "    \n"
   ]
  },
  {
   "cell_type": "code",
   "execution_count": 15,
   "id": "e3b99988-ff69-48dd-bc0c-dbcc66518929",
   "metadata": {},
   "outputs": [
    {
     "data": {
      "text/plain": [
       "9"
      ]
     },
     "execution_count": 15,
     "metadata": {},
     "output_type": "execute_result"
    }
   ],
   "source": [
    "def sales(*args):\n",
    "    result=0\n",
    "    for i in range(len(args)-1):\n",
    "        result =args[i]+args[i+1]\n",
    "    return result\n",
    "sales(1,2,3,4,5)"
   ]
  },
  {
   "cell_type": "code",
   "execution_count": 28,
   "id": "aa51cf13-63d8-4767-abc6-c9994f2fe929",
   "metadata": {},
   "outputs": [],
   "source": [
    "def tall(*args):\n",
    "    a = args[0]\n",
    "    \n",
    "    for i in range(len(args)):\n",
    "        if(args[i]>a):\n",
    "            a = args[i]\n",
    "    return a\n",
    "\n",
    "        "
   ]
  },
  {
   "cell_type": "code",
   "execution_count": 30,
   "id": "09c809d9-e729-46d9-a88e-06086c3b8877",
   "metadata": {},
   "outputs": [
    {
     "data": {
      "text/plain": [
       "8"
      ]
     },
     "execution_count": 30,
     "metadata": {},
     "output_type": "execute_result"
    }
   ],
   "source": [
    "tall(3,4,7,8)"
   ]
  },
  {
   "cell_type": "code",
   "execution_count": 45,
   "id": "f0110d2c-c6ac-4e51-86a7-86dc33f91766",
   "metadata": {},
   "outputs": [],
   "source": [
    "company = [\"ola\",\"uber\",\"rapido\",\"tata\"]\n",
    "\n",
    "def cm(com):\n",
    "    for i in company:\n",
    "     t = i.upper()\n",
    "     g = \"#\"+t\n",
    "     print(g)\n",
    "    "
   ]
  },
  {
   "cell_type": "code",
   "execution_count": 46,
   "id": "a26cbb43-e143-4a71-8858-bd843f24c9fe",
   "metadata": {},
   "outputs": [
    {
     "name": "stdout",
     "output_type": "stream",
     "text": [
      "#OLA\n",
      "#UBER\n",
      "#RAPIDO\n",
      "#TATA\n"
     ]
    }
   ],
   "source": [
    "cm(company)"
   ]
  },
  {
   "cell_type": "code",
   "execution_count": 64,
   "id": "9c2a2911-ceb1-447f-bc62-d38bff367113",
   "metadata": {},
   "outputs": [],
   "source": [
    "import pandas as pd\n",
    "def record(name,age,sec,roll_no,Class):\n",
    "    data={\"name\":name,\"age\":age,\"sec\":sec,\"roll_no\":roll_no,\"class\":Class}\n",
    "    result = pd.DataFrame(data,index=[1])\n",
    "    return result\n",
    "    \n",
    "\n",
    "       "
   ]
  },
  {
   "cell_type": "code",
   "execution_count": 65,
   "id": "708e638b-ab66-4b21-8a3c-db45ae0983e8",
   "metadata": {},
   "outputs": [
    {
     "data": {
      "text/html": [
       "<div>\n",
       "<style scoped>\n",
       "    .dataframe tbody tr th:only-of-type {\n",
       "        vertical-align: middle;\n",
       "    }\n",
       "\n",
       "    .dataframe tbody tr th {\n",
       "        vertical-align: top;\n",
       "    }\n",
       "\n",
       "    .dataframe thead th {\n",
       "        text-align: right;\n",
       "    }\n",
       "</style>\n",
       "<table border=\"1\" class=\"dataframe\">\n",
       "  <thead>\n",
       "    <tr style=\"text-align: right;\">\n",
       "      <th></th>\n",
       "      <th>name</th>\n",
       "      <th>age</th>\n",
       "      <th>sec</th>\n",
       "      <th>roll_no</th>\n",
       "      <th>class</th>\n",
       "    </tr>\n",
       "  </thead>\n",
       "  <tbody>\n",
       "    <tr>\n",
       "      <th>1</th>\n",
       "      <td>parth</td>\n",
       "      <td>19</td>\n",
       "      <td>e2</td>\n",
       "      <td>21</td>\n",
       "      <td>bca</td>\n",
       "    </tr>\n",
       "  </tbody>\n",
       "</table>\n",
       "</div>"
      ],
      "text/plain": [
       "    name  age sec roll_no class\n",
       "1  parth   19  e2      21   bca"
      ]
     },
     "execution_count": 65,
     "metadata": {},
     "output_type": "execute_result"
    }
   ],
   "source": [
    "record(\"parth\",19,\"e2\",\"21\",\"bca\")"
   ]
  },
  {
   "cell_type": "code",
   "execution_count": 69,
   "id": "97e740e3-091a-4993-89fb-611ece3eb806",
   "metadata": {},
   "outputs": [],
   "source": [
    "def student_record(**args):\n",
    "    result=pd.DataFrame(args,index=1)\n",
    "    return result\n",
    "\n"
   ]
  },
  {
   "cell_type": "code",
   "execution_count": 73,
   "id": "90450e52-c698-48d2-a439-3d626e851176",
   "metadata": {},
   "outputs": [
    {
     "ename": "SyntaxError",
     "evalue": "invalid syntax (1162361374.py, line 1)",
     "output_type": "error",
     "traceback": [
      "\u001b[1;36m  Cell \u001b[1;32mIn[73], line 1\u001b[1;36m\u001b[0m\n\u001b[1;33m    student_record(\"name\": \"parth\",\"age\": 19,\"sec\": \"e2\",\"roll_no\":21,\"class\":\"bca\")\u001b[0m\n\u001b[1;37m                         ^\u001b[0m\n\u001b[1;31mSyntaxError\u001b[0m\u001b[1;31m:\u001b[0m invalid syntax\n"
     ]
    }
   ],
   "source": [
    "student_record(\"name\": \"parth\",\"age\": 19,\"sec\": \"e2\",\"roll_no\":21,\"class\":\"bca\")"
   ]
  },
  {
   "cell_type": "code",
   "execution_count": null,
   "id": "ab06a8dc-f9b3-4358-9acd-dc681bd84e48",
   "metadata": {},
   "outputs": [],
   "source": []
  }
 ],
 "metadata": {
  "kernelspec": {
   "display_name": "Python [conda env:base] *",
   "language": "python",
   "name": "conda-base-py"
  },
  "language_info": {
   "codemirror_mode": {
    "name": "ipython",
    "version": 3
   },
   "file_extension": ".py",
   "mimetype": "text/x-python",
   "name": "python",
   "nbconvert_exporter": "python",
   "pygments_lexer": "ipython3",
   "version": "3.13.5"
  }
 },
 "nbformat": 4,
 "nbformat_minor": 5
}
