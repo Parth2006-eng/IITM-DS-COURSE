{
 "cells": [
  {
   "cell_type": "code",
   "execution_count": 27,
   "id": "088e192f-6afa-41c8-93ef-0bf93a26b5ff",
   "metadata": {},
   "outputs": [],
   "source": [
    "class A:\n",
    "    def super_engine(self):\n",
    "        print(\"print super_engine\")\n",
    "class D(A):\n",
    "    def auto_engine(self):\n",
    "        print(\"print auto_engine\")\n",
    "class B(A):\n",
    "    def turbo_engine(self):\n",
    "        print(\"print turbo engine \")\n",
    "obj = A()\n",
    "obj1 = B()\n",
    "obj2 = D()"
   ]
  },
  {
   "cell_type": "code",
   "execution_count": 24,
   "id": "8a75ce95-6a27-4609-a028-0d8e4471ef06",
   "metadata": {},
   "outputs": [
    {
     "name": "stdout",
     "output_type": "stream",
     "text": [
      "print super_engine\n"
     ]
    }
   ],
   "source": [
    "obj.super_engine()"
   ]
  },
  {
   "cell_type": "code",
   "execution_count": 25,
   "id": "53171815-3b5d-4fff-9678-a9772364031e",
   "metadata": {},
   "outputs": [
    {
     "name": "stdout",
     "output_type": "stream",
     "text": [
      "print turbo engine \n"
     ]
    }
   ],
   "source": [
    "obj1.turbo_engine()"
   ]
  },
  {
   "cell_type": "code",
   "execution_count": 26,
   "id": "b917d2dd-23cc-4764-8cad-f22ebdfac62c",
   "metadata": {},
   "outputs": [
    {
     "name": "stdout",
     "output_type": "stream",
     "text": [
      "print auto_engine\n"
     ]
    }
   ],
   "source": [
    "obj1.auto_engine()"
   ]
  },
  {
   "cell_type": "code",
   "execution_count": 39,
   "id": "e7fde5e2-e846-4d10-ba8e-3153015c68cd",
   "metadata": {},
   "outputs": [],
   "source": [
    "\n",
    "class Daily_Object:\n",
    "    def phone_case(self):\n",
    "        print(\"strong phone case\")\n",
    "class JBL:\n",
    "    def sonic_speaker(self):\n",
    "        print(\"sonic speaker\")\n",
    "class Samsung:\n",
    "    def screen_display(self):\n",
    "        print(\"screen\")\n",
    "\n",
    "class Nvidia:\n",
    "    def motherboard(self):\n",
    "        print(\"motherboard\")\n",
    "class Lava:\n",
    "    def battery(self):\n",
    "        print(\"lava battery \")\n",
    "class Sony:\n",
    "    def Camera(self):\n",
    "        print(\"camera\")\n",
    "\n",
    "class One_Plus:\n",
    "    \n",
    "    def charger(self):\n",
    "        print(\"charger\")\n",
    "        \n",
    "        print(\"camera\")\n",
    "class Mobile(Daily_Object,JBL,Samsung,Nvidia,One_Plus,Lava,Sony):\n",
    "    def __init__(self):\n",
    "        print(\"phone object created succesfully\")\n",
    "    def charger(self):\n",
    "        print(\"mobile charger\")\n",
    "    \n",
    "    \n",
    "    "
   ]
  },
  {
   "cell_type": "code",
   "execution_count": 40,
   "id": "f5bafcb0-dacb-4ccc-b64b-133b3ef9d8d2",
   "metadata": {},
   "outputs": [
    {
     "name": "stdout",
     "output_type": "stream",
     "text": [
      "phone object created succesfully\n"
     ]
    }
   ],
   "source": [
    "phone = Mobile()"
   ]
  },
  {
   "cell_type": "code",
   "execution_count": 41,
   "id": "dcda1fe4-7a9e-4211-a4c1-b92d9a95fac6",
   "metadata": {},
   "outputs": [
    {
     "name": "stdout",
     "output_type": "stream",
     "text": [
      "mobile charger\n"
     ]
    }
   ],
   "source": [
    "phone.charger()"
   ]
  },
  {
   "cell_type": "code",
   "execution_count": 42,
   "id": "302f8f67-53bc-4608-ac41-8a90a1cbb9a5",
   "metadata": {},
   "outputs": [],
   "source": [
    "class Grandfather:\n",
    "    def land_property(self):\n",
    "        print(\"property\")\n",
    "class Father(Grandfather):\n",
    "    def bank_balance(self):\n",
    "        print(\"10000000\")\n",
    "class Son(Father):\n",
    "    def political_power(self):\n",
    "        print(\"political power\")\n",
    "class Grandson(Son):\n",
    "    def Brain(self):\n",
    "        print(\"brain power\")\n",
    "class Freind(Grandson):\n",
    "    def __init__(self):\n",
    "        print(\"nothing\")"
   ]
  },
  {
   "cell_type": "code",
   "execution_count": 43,
   "id": "6507da6a-34df-442c-86f2-81e7c4d4aeb4",
   "metadata": {},
   "outputs": [
    {
     "name": "stdout",
     "output_type": "stream",
     "text": [
      "nothing\n"
     ]
    }
   ],
   "source": [
    "f = Freind()"
   ]
  },
  {
   "cell_type": "code",
   "execution_count": 44,
   "id": "62523d09-a61d-475a-92ed-70f8e8ea3cb4",
   "metadata": {},
   "outputs": [
    {
     "name": "stdout",
     "output_type": "stream",
     "text": [
      "brain power\n"
     ]
    }
   ],
   "source": [
    "f.Brain()"
   ]
  },
  {
   "cell_type": "code",
   "execution_count": 45,
   "id": "a82a50b7-7c2a-4380-aa22-17f5d15328d0",
   "metadata": {},
   "outputs": [],
   "source": [
    "class Hybrid(Mobile,Freind):\n",
    "    def __init__(self):\n",
    "        print(\"hybrid class\")\n",
    "    def info(self):\n",
    "        print(\"it can call any element\")"
   ]
  },
  {
   "cell_type": "code",
   "execution_count": 46,
   "id": "7c77221b-603b-4657-9ed8-e3554c47698b",
   "metadata": {},
   "outputs": [
    {
     "name": "stdout",
     "output_type": "stream",
     "text": [
      "hybrid class\n"
     ]
    }
   ],
   "source": [
    "h = Hybrid()"
   ]
  },
  {
   "cell_type": "code",
   "execution_count": 47,
   "id": "9091cf50-e184-47d6-a104-6968dadc9d65",
   "metadata": {},
   "outputs": [
    {
     "data": {
      "text/plain": [
       "<__main__.Hybrid at 0x19517a33cb0>"
      ]
     },
     "execution_count": 47,
     "metadata": {},
     "output_type": "execute_result"
    }
   ],
   "source": [
    "h"
   ]
  },
  {
   "cell_type": "code",
   "execution_count": 48,
   "id": "0227c92f-2612-44f7-a411-c4af39de4421",
   "metadata": {},
   "outputs": [],
   "source": [
    "class UGC:\n",
    "    def __init__(self):\n",
    "        print(\"Grant Permision\")\n",
    "    def college_approved(self):\n",
    "        print(\"ggsipu\")\n",
    "        "
   ]
  },
  {
   "cell_type": "code",
   "execution_count": 49,
   "id": "64296255-ce2a-46f8-ad2d-ff70e180e053",
   "metadata": {},
   "outputs": [],
   "source": [
    "class UGC:  # Parent Class\n",
    "  def _init_(self):\n",
    "    print('Grant Permission')\n",
    "  def college_approved(self):\n",
    "    print('College Has been Approved')\n",
    "\n",
    "class DU(UGC):\n",
    "  def multiple_colleges(self):\n",
    "    print('List of Colleges!!')\n",
    "\n",
    "class IP(UGC):\n",
    "  def multiple_colleges(self):\n",
    "    print('List of Colleges!!')\n",
    "\n",
    "\n",
    "class DTU(UGC):\n",
    "  def multiple_colleges(self):\n",
    "    print('List of Colleges!!')\n",
    "\n",
    "class BHU(UGC):\n",
    "  def multiple_colleges(self):\n",
    "    print('List of Colleges!!')"
   ]
  },
  {
   "cell_type": "code",
   "execution_count": 55,
   "id": "6da8ba61-22e5-4b35-8d40-3d47b2b0da3b",
   "metadata": {},
   "outputs": [
    {
     "ename": "TypeError",
     "evalue": "object of type 'int' has no len()",
     "output_type": "error",
     "traceback": [
      "\u001b[1;31m---------------------------------------------------------------------------\u001b[0m",
      "\u001b[1;31mTypeError\u001b[0m                                 Traceback (most recent call last)",
      "Cell \u001b[1;32mIn[55], line 2\u001b[0m\n\u001b[0;32m      1\u001b[0m a \u001b[38;5;241m=\u001b[39m\u001b[38;5;241m500\u001b[39m\n\u001b[1;32m----> 2\u001b[0m \u001b[38;5;28mlen\u001b[39m(a)\n",
      "\u001b[1;31mTypeError\u001b[0m: object of type 'int' has no len()"
     ]
    }
   ],
   "source": [
    "\n",
    "a =500\n",
    "len(a)\n"
   ]
  },
  {
   "cell_type": "code",
   "execution_count": 53,
   "id": "8958a35c-511a-4a9a-86c8-08b56a811f99",
   "metadata": {},
   "outputs": [
    {
     "ename": "TypeError",
     "evalue": "manan() missing 1 required positional argument: 'b'",
     "output_type": "error",
     "traceback": [
      "\u001b[1;31m---------------------------------------------------------------------------\u001b[0m",
      "\u001b[1;31mTypeError\u001b[0m                                 Traceback (most recent call last)",
      "Cell \u001b[1;32mIn[53], line 1\u001b[0m\n\u001b[1;32m----> 1\u001b[0m manan()\n",
      "\u001b[1;31mTypeError\u001b[0m: manan() missing 1 required positional argument: 'b'"
     ]
    }
   ],
   "source": [
    "manan()"
   ]
  },
  {
   "cell_type": "code",
   "execution_count": 57,
   "id": "b9ebc7a5-8af3-49d3-8f6f-eae134e98dcd",
   "metadata": {},
   "outputs": [
    {
     "name": "stdout",
     "output_type": "stream",
     "text": [
      "F1 Car Speed:  Max speed 200 km/hr\n",
      "F1 Car Speed:  Max speed 250 km/hr\n",
      "F1 Car Speed:  Max speed 300 km/hr\n"
     ]
    }
   ],
   "source": [
    "class Car:\n",
    "  def speed(self):\n",
    "    return('Max speed 200 km/hr')\n",
    "\n",
    "  def auto_pilot(self):\n",
    "    return('It supports Auto Pilot Mode!!')\n",
    "\n",
    "  def info(self):\n",
    "    return('This is just a car object')\n",
    "\n",
    "\n",
    "class Bmw(Car):\n",
    "  def speed(self):\n",
    "    return('Max speed 250 km/hr')\n",
    "\n",
    "  def info(self):\n",
    "    return('A BMW car object')\n",
    "\n",
    "\n",
    "\n",
    "class Audi(Car):\n",
    "  def speed(self):\n",
    "    return('Max speed 300 km/hr')\n",
    "\n",
    "  def info(self):\n",
    "    return('Audi car🏎️')\n",
    "\n",
    "\n",
    "\n",
    "\n",
    "\n",
    "for i in [Car,Bmw,Audi]:\n",
    "  f1 = i()\n",
    "  print('F1 Car Speed: ',f1.speed())\n"
   ]
  },
  {
   "cell_type": "code",
   "execution_count": 2,
   "id": "65e0285a-8876-45fb-bd85-242db2ccb1c7",
   "metadata": {},
   "outputs": [
    {
     "name": "stdout",
     "output_type": "stream",
     "text": [
      "hellos candidate\n"
     ]
    }
   ],
   "source": [
    "class IITM:\n",
    "    def intro(self):\n",
    "        print(\"hello candidate\")\n",
    "    def intro(self,intro):\n",
    "        print(\"hellos candidate\")\n",
    "a= IITM()\n",
    "a.intro('ajay')\n"
   ]
  },
  {
   "cell_type": "code",
   "execution_count": 8,
   "id": "63613efa-df1e-4c73-a330-f8a70e93dab8",
   "metadata": {},
   "outputs": [],
   "source": [
    "class IITM:\n",
    "    def intro(self,name):\n",
    "        print(name)\n",
    "    def intro(self,name = \"parth\"):\n",
    "        print(\"hello\")"
   ]
  },
  {
   "cell_type": "code",
   "execution_count": 9,
   "id": "8862522d-0880-4e38-aa71-a6294e99737c",
   "metadata": {},
   "outputs": [],
   "source": [
    "i = IITM()\n"
   ]
  },
  {
   "cell_type": "code",
   "execution_count": 12,
   "id": "5c4909f8-7970-43c3-8f61-c357aa40febc",
   "metadata": {},
   "outputs": [
    {
     "name": "stdout",
     "output_type": "stream",
     "text": [
      "hello\n"
     ]
    }
   ],
   "source": [
    "i.intro(\"parth\")"
   ]
  },
  {
   "cell_type": "code",
   "execution_count": 13,
   "id": "e8a4277a-f021-48df-a78e-8f8752aeebd3",
   "metadata": {},
   "outputs": [],
   "source": [
    "class IITM:\n",
    "\n",
    "  def intro(self,name = None,address = None):\n",
    "    if (name == None) and (address == None):\n",
    "      print('Hello Candidates!!')\n",
    "\n",
    "    elif name != None:\n",
    "      print(f'Hello {name},how are you??')\n",
    "\n",
    "    elif (name != None) and  (address != None):\n",
    "      print(f'Hello {name},how are you??')\n",
    "      print(f'Your Address is {address}')\n",
    "\n",
    "    else:\n",
    "        print(\"helllo\")\n"
   ]
  },
  {
   "cell_type": "code",
   "execution_count": 14,
   "id": "42e74506-34f2-4232-a5e5-ac1a5101c7bc",
   "metadata": {},
   "outputs": [],
   "source": [
    "a = IITM()"
   ]
  },
  {
   "cell_type": "code",
   "execution_count": 17,
   "id": "f8319884-dc1e-4c00-b7ec-d1b9e67e2722",
   "metadata": {},
   "outputs": [
    {
     "name": "stdout",
     "output_type": "stream",
     "text": [
      "Hello parth,how are you??\n"
     ]
    }
   ],
   "source": [
    "a.intro(\"parth\")"
   ]
  },
  {
   "cell_type": "code",
   "execution_count": 22,
   "id": "18cbe927-8b5d-4ea9-b649-39cc9d8009c0",
   "metadata": {},
   "outputs": [
    {
     "name": "stdout",
     "output_type": "stream",
     "text": [
      "done\n"
     ]
    }
   ],
   "source": [
    "from abc import ABC,abstractmethod\n",
    "\n",
    "class Website(ABC):\n",
    "    @abstractmethod\n",
    "    def login(self):\n",
    "        print(\"login\")\n",
    "    @abstractmethod\n",
    "    def logout(self):\n",
    "        print(\"logout\")\n",
    "\n",
    "print(\"done\")\n",
    "    "
   ]
  },
  {
   "cell_type": "code",
   "execution_count": 25,
   "id": "d5ff347b-13ec-4f7a-b8fe-67c9ee6645fe",
   "metadata": {},
   "outputs": [],
   "source": [
    "class Well(Website):\n",
    "    def login(self):\n",
    "        print(\"hello\")\n",
    "    def logout(self):\n",
    "        print(\"LOGOUT\")\n",
    "        \n",
    "        "
   ]
  },
  {
   "cell_type": "code",
   "execution_count": 26,
   "id": "1d881f9a-e3c3-4ff6-a255-e4fd9120251b",
   "metadata": {},
   "outputs": [],
   "source": [
    "w = Well()"
   ]
  },
  {
   "cell_type": "code",
   "execution_count": 27,
   "id": "976ac2c3-d796-4cf4-82d0-4f52f1db3616",
   "metadata": {},
   "outputs": [
    {
     "name": "stdout",
     "output_type": "stream",
     "text": [
      "hello\n"
     ]
    }
   ],
   "source": [
    "w.login()"
   ]
  },
  {
   "cell_type": "code",
   "execution_count": null,
   "id": "fc66431d-0a5c-4a86-969a-894607f37b73",
   "metadata": {},
   "outputs": [],
   "source": []
  }
 ],
 "metadata": {
  "kernelspec": {
   "display_name": "Python [conda env:base] *",
   "language": "python",
   "name": "conda-base-py"
  },
  "language_info": {
   "codemirror_mode": {
    "name": "ipython",
    "version": 3
   },
   "file_extension": ".py",
   "mimetype": "text/x-python",
   "name": "python",
   "nbconvert_exporter": "python",
   "pygments_lexer": "ipython3",
   "version": "3.13.5"
  }
 },
 "nbformat": 4,
 "nbformat_minor": 5
}
