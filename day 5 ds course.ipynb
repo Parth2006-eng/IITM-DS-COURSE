{
 "cells": [
  {
   "cell_type": "code",
   "execution_count": 2,
   "id": "135f8a0a-d9e2-4eb8-a50a-21ab7eadd3c7",
   "metadata": {},
   "outputs": [
    {
     "ename": "ModuleNotFoundError",
     "evalue": "No module named 'pymysql'",
     "output_type": "error",
     "traceback": [
      "\u001b[1;31m---------------------------------------------------------------------------\u001b[0m",
      "\u001b[1;31mModuleNotFoundError\u001b[0m                       Traceback (most recent call last)",
      "Cell \u001b[1;32mIn[2], line 1\u001b[0m\n\u001b[1;32m----> 1\u001b[0m \u001b[38;5;28;01mimport\u001b[39;00m\u001b[38;5;250m \u001b[39m\u001b[38;5;21;01mpymysql\u001b[39;00m\u001b[38;5;250m \u001b[39m\u001b[38;5;28;01mas\u001b[39;00m\u001b[38;5;250m \u001b[39m\u001b[38;5;21;01mpt\u001b[39;00m\n",
      "\u001b[1;31mModuleNotFoundError\u001b[0m: No module named 'pymysql'"
     ]
    }
   ],
   "source": [
    "import pymysql as pt"
   ]
  },
  {
   "cell_type": "code",
   "execution_count": 3,
   "id": "0761152d-040c-40f3-bb74-4834b08e8c4a",
   "metadata": {},
   "outputs": [
    {
     "name": "stdout",
     "output_type": "stream",
     "text": [
      "Collecting PyMySQL\n",
      "  Downloading PyMySQL-1.1.1-py3-none-any.whl.metadata (4.4 kB)\n",
      "Downloading PyMySQL-1.1.1-py3-none-any.whl (44 kB)\n",
      "Installing collected packages: PyMySQL\n",
      "Successfully installed PyMySQL-1.1.1\n",
      "Note: you may need to restart the kernel to use updated packages.\n"
     ]
    }
   ],
   "source": [
    "pip install PyMySQL"
   ]
  },
  {
   "cell_type": "code",
   "execution_count": 4,
   "id": "b2accd90-f4ca-4a43-b4dd-ea4dd1e5398d",
   "metadata": {},
   "outputs": [],
   "source": [
    "import pymysql as pt"
   ]
  },
  {
   "cell_type": "code",
   "execution_count": 6,
   "id": "57aab660-b083-4bb5-9b2f-a7fcacf29d95",
   "metadata": {},
   "outputs": [
    {
     "name": "stdout",
     "output_type": "stream",
     "text": [
      "it is connected\n"
     ]
    }
   ],
   "source": [
    "conn = pt.connect(user='root',\n",
    "           password=\"1234\",\n",
    "          host=\"localhost\",\n",
    "          autocommit = True,\n",
    "          )\n",
    "print(\"it is connected\")"
   ]
  },
  {
   "cell_type": "code",
   "execution_count": 22,
   "id": "9104f244-5f9a-4529-80ee-b74dcf87c9e4",
   "metadata": {},
   "outputs": [
    {
     "name": "stdout",
     "output_type": "stream",
     "text": [
      "done\n"
     ]
    }
   ],
   "source": [
    "cur = conn.cursor()\n",
    "print(\"done\")"
   ]
  },
  {
   "cell_type": "code",
   "execution_count": 29,
   "id": "c4e92059-282a-4aec-ae47-e3e1201e8fb6",
   "metadata": {},
   "outputs": [],
   "source": [
    "query = ''' use parth1;\n",
    "'''"
   ]
  },
  {
   "cell_type": "code",
   "execution_count": 30,
   "id": "836fb839-4d0d-4acd-9aa1-8fa4ff8d7ded",
   "metadata": {},
   "outputs": [
    {
     "name": "stdout",
     "output_type": "stream",
     "text": [
      "done\n"
     ]
    }
   ],
   "source": [
    "cur.execute(query)\n",
    "print(\"done\")"
   ]
  },
  {
   "cell_type": "code",
   "execution_count": 33,
   "id": "f758f6dc-6ac6-4684-b449-cddfedad9734",
   "metadata": {},
   "outputs": [],
   "source": [
    "query = '''create table student_details\n",
    "(\n",
    "SID int not null,\n",
    "s_name varchar(50),\n",
    "course varchar(50),\n",
    "Address varchar(80),\n",
    "Scholorship float\n",
    "); '''"
   ]
  },
  {
   "cell_type": "code",
   "execution_count": 34,
   "id": "25940bf0-0255-4bf8-b5e2-996d1e5fc8a8",
   "metadata": {},
   "outputs": [
    {
     "name": "stdout",
     "output_type": "stream",
     "text": [
      "done\n"
     ]
    }
   ],
   "source": [
    "cur.execute(query)\n",
    "print(\"done\")"
   ]
  },
  {
   "cell_type": "code",
   "execution_count": 35,
   "id": "5cf0fedf-d04b-4bfa-a920-dfb57a91e6c9",
   "metadata": {},
   "outputs": [],
   "source": [
    "query = ''' insert into student_details\n",
    "values\n",
    "(101,\"parth\",\"bca\",\"shakarpur\",100000),\n",
    "(102,\"prateek\",\"bba\",\"shakarpur\",11000);\n",
    "'''"
   ]
  },
  {
   "cell_type": "code",
   "execution_count": 36,
   "id": "797e1180-20d1-4531-a181-fbcd1be86d4d",
   "metadata": {},
   "outputs": [
    {
     "name": "stdout",
     "output_type": "stream",
     "text": [
      "done\n"
     ]
    }
   ],
   "source": [
    "cur.execute(query)\n",
    "print(\"done\")"
   ]
  },
  {
   "cell_type": "code",
   "execution_count": 43,
   "id": "fed42d79-ff68-4471-bf5f-e33150de1127",
   "metadata": {},
   "outputs": [
    {
     "name": "stdin",
     "output_type": "stream",
     "text": [
      "enter the id 071\n",
      "enter the name tyagi\n",
      "enter the course bca\n",
      "enter the address ip\n",
      "enter the amount 10000\n",
      "enter the id 080\n",
      "enter the name rohan\n",
      "enter the course bca\n",
      "enter the address ip\n",
      "enter the amount 100000\n",
      "enter the id 890\n",
      "enter the name youri\n",
      "enter the course bba\n",
      "enter the address ip\n",
      "enter the amount 10000\n",
      "enter the id 876\n",
      "enter the name booker\n",
      "enter the course bca\n",
      "enter the address ip\n",
      "enter the amount 10000\n",
      "enter the id 860\n",
      "enter the name ashmeeet\n",
      "enter the course bba\n",
      "enter the address ip\n",
      "enter the amount 10000\n"
     ]
    },
    {
     "name": "stdout",
     "output_type": "stream",
     "text": [
      "done\n"
     ]
    }
   ],
   "source": [
    "for i in range(5):\n",
    "    sid = int(input(\"enter the id\"))\n",
    "    name = input(\"enter the name\")\n",
    "    course = input(\"enter the course\")\n",
    "    address = input(\"enter the address\")\n",
    "    scholorship = int(input(\"enter the amount\"))\n",
    "    \n",
    "    query2 = f'''insert into student_details values\n",
    "    ({sid},\"{name}\",\"{course}\",\"{address}\",{scholorship});\n",
    "    '''\n",
    "    cur.execute(query2)\n",
    "print(\"done\")\n"
   ]
  },
  {
   "cell_type": "code",
   "execution_count": null,
   "id": "e53ae7c9-0f08-4bc8-9c0e-b7af30d8d13f",
   "metadata": {},
   "outputs": [],
   "source": [
    "\n",
    "\n",
    "\n"
   ]
  },
  {
   "cell_type": "code",
   "execution_count": 60,
   "id": "46ab8daf-0bc0-4dd5-a32f-ae0d38e67c06",
   "metadata": {},
   "outputs": [
    {
     "data": {
      "text/html": [
       "<div>\n",
       "<style scoped>\n",
       "    .dataframe tbody tr th:only-of-type {\n",
       "        vertical-align: middle;\n",
       "    }\n",
       "\n",
       "    .dataframe tbody tr th {\n",
       "        vertical-align: top;\n",
       "    }\n",
       "\n",
       "    .dataframe thead th {\n",
       "        text-align: right;\n",
       "    }\n",
       "</style>\n",
       "<table border=\"1\" class=\"dataframe\">\n",
       "  <thead>\n",
       "    <tr style=\"text-align: right;\">\n",
       "      <th></th>\n",
       "      <th>SID</th>\n",
       "      <th>s_name</th>\n",
       "      <th>course</th>\n",
       "      <th>Address</th>\n",
       "      <th>Scholorship</th>\n",
       "    </tr>\n",
       "  </thead>\n",
       "  <tbody>\n",
       "    <tr>\n",
       "      <th>0</th>\n",
       "      <td>101</td>\n",
       "      <td>parth</td>\n",
       "      <td>bca</td>\n",
       "      <td>shakarpur</td>\n",
       "      <td>100000.0</td>\n",
       "    </tr>\n",
       "    <tr>\n",
       "      <th>1</th>\n",
       "      <td>102</td>\n",
       "      <td>prateek</td>\n",
       "      <td>bba</td>\n",
       "      <td>shakarpur</td>\n",
       "      <td>11000.0</td>\n",
       "    </tr>\n",
       "    <tr>\n",
       "      <th>2</th>\n",
       "      <td>71</td>\n",
       "      <td>parth</td>\n",
       "      <td>bca</td>\n",
       "      <td>shakarpur</td>\n",
       "      <td>10000.0</td>\n",
       "    </tr>\n",
       "    <tr>\n",
       "      <th>3</th>\n",
       "      <td>91</td>\n",
       "      <td>manan</td>\n",
       "      <td>bca</td>\n",
       "      <td>ip</td>\n",
       "      <td>100000.0</td>\n",
       "    </tr>\n",
       "    <tr>\n",
       "      <th>4</th>\n",
       "      <td>85</td>\n",
       "      <td>sdjfs</td>\n",
       "      <td>fjksfj</td>\n",
       "      <td>jfksjf</td>\n",
       "      <td>3423420.0</td>\n",
       "    </tr>\n",
       "    <tr>\n",
       "      <th>5</th>\n",
       "      <td>343</td>\n",
       "      <td>hareker</td>\n",
       "      <td>bba</td>\n",
       "      <td>shakr</td>\n",
       "      <td>43434.0</td>\n",
       "    </tr>\n",
       "    <tr>\n",
       "      <th>6</th>\n",
       "      <td>243</td>\n",
       "      <td>gaurav</td>\n",
       "      <td>bba</td>\n",
       "      <td>sfsf</td>\n",
       "      <td>11342.0</td>\n",
       "    </tr>\n",
       "    <tr>\n",
       "      <th>7</th>\n",
       "      <td>71</td>\n",
       "      <td>tyagi</td>\n",
       "      <td>bca</td>\n",
       "      <td>ip</td>\n",
       "      <td>10000.0</td>\n",
       "    </tr>\n",
       "    <tr>\n",
       "      <th>8</th>\n",
       "      <td>80</td>\n",
       "      <td>rohan</td>\n",
       "      <td>bca</td>\n",
       "      <td>ip</td>\n",
       "      <td>100000.0</td>\n",
       "    </tr>\n",
       "    <tr>\n",
       "      <th>9</th>\n",
       "      <td>890</td>\n",
       "      <td>youri</td>\n",
       "      <td>bba</td>\n",
       "      <td>ip</td>\n",
       "      <td>10000.0</td>\n",
       "    </tr>\n",
       "    <tr>\n",
       "      <th>10</th>\n",
       "      <td>876</td>\n",
       "      <td>booker</td>\n",
       "      <td>bca</td>\n",
       "      <td>ip</td>\n",
       "      <td>10000.0</td>\n",
       "    </tr>\n",
       "    <tr>\n",
       "      <th>11</th>\n",
       "      <td>860</td>\n",
       "      <td>ashmeeet</td>\n",
       "      <td>bba</td>\n",
       "      <td>ip</td>\n",
       "      <td>10000.0</td>\n",
       "    </tr>\n",
       "  </tbody>\n",
       "</table>\n",
       "</div>"
      ],
      "text/plain": [
       "    SID    s_name  course    Address  Scholorship\n",
       "0   101     parth     bca  shakarpur     100000.0\n",
       "1   102   prateek     bba  shakarpur      11000.0\n",
       "2    71     parth     bca  shakarpur      10000.0\n",
       "3    91     manan     bca         ip     100000.0\n",
       "4    85     sdjfs  fjksfj     jfksjf    3423420.0\n",
       "5   343   hareker     bba      shakr      43434.0\n",
       "6   243    gaurav     bba       sfsf      11342.0\n",
       "7    71     tyagi     bca         ip      10000.0\n",
       "8    80     rohan     bca         ip     100000.0\n",
       "9   890     youri     bba         ip      10000.0\n",
       "10  876    booker     bca         ip      10000.0\n",
       "11  860  ashmeeet     bba         ip      10000.0"
      ]
     },
     "execution_count": 60,
     "metadata": {},
     "output_type": "execute_result"
    }
   ],
   "source": [
    "query3 = '''select * from student_details;'''\n",
    "cur.execute(query3)\n",
    "columms1 = []\n",
    "r = cur.fetchall()\n",
    "for i in cur.description:\n",
    "    columms1.append(i[0])\n",
    "import pandas as pd\n",
    "pd.DataFrame(r, columns = columms1)"
   ]
  },
  {
   "cell_type": "code",
   "execution_count": 67,
   "id": "c927cf0c-ebf4-4779-9bf9-a59e9e7afdfd",
   "metadata": {},
   "outputs": [],
   "source": [
    "def show_records(db,table):\n",
    "        \n",
    "    query3 = f''' select * from {db}.{table};'''\n",
    "    cur.execute(query3)\n",
    "    columms1 = []\n",
    "    r = cur.fetchall()\n",
    "    for i in cur.description:\n",
    "        columms1.append(i[0])\n",
    "    import pandas as pd\n",
    "    df = pd.DataFrame(r, columns = columms1)\n",
    "    return df"
   ]
  },
  {
   "cell_type": "code",
   "execution_count": 68,
   "id": "4830c2fe-bcb8-42da-882c-0e374502b2c4",
   "metadata": {},
   "outputs": [
    {
     "data": {
      "text/html": [
       "<div>\n",
       "<style scoped>\n",
       "    .dataframe tbody tr th:only-of-type {\n",
       "        vertical-align: middle;\n",
       "    }\n",
       "\n",
       "    .dataframe tbody tr th {\n",
       "        vertical-align: top;\n",
       "    }\n",
       "\n",
       "    .dataframe thead th {\n",
       "        text-align: right;\n",
       "    }\n",
       "</style>\n",
       "<table border=\"1\" class=\"dataframe\">\n",
       "  <thead>\n",
       "    <tr style=\"text-align: right;\">\n",
       "      <th></th>\n",
       "      <th>SID</th>\n",
       "      <th>s_name</th>\n",
       "      <th>course</th>\n",
       "      <th>Address</th>\n",
       "      <th>Scholorship</th>\n",
       "    </tr>\n",
       "  </thead>\n",
       "  <tbody>\n",
       "    <tr>\n",
       "      <th>0</th>\n",
       "      <td>101</td>\n",
       "      <td>parth</td>\n",
       "      <td>bca</td>\n",
       "      <td>shakarpur</td>\n",
       "      <td>100000.0</td>\n",
       "    </tr>\n",
       "    <tr>\n",
       "      <th>1</th>\n",
       "      <td>102</td>\n",
       "      <td>prateek</td>\n",
       "      <td>bba</td>\n",
       "      <td>shakarpur</td>\n",
       "      <td>11000.0</td>\n",
       "    </tr>\n",
       "    <tr>\n",
       "      <th>2</th>\n",
       "      <td>71</td>\n",
       "      <td>parth</td>\n",
       "      <td>bca</td>\n",
       "      <td>shakarpur</td>\n",
       "      <td>10000.0</td>\n",
       "    </tr>\n",
       "    <tr>\n",
       "      <th>3</th>\n",
       "      <td>91</td>\n",
       "      <td>manan</td>\n",
       "      <td>bca</td>\n",
       "      <td>ip</td>\n",
       "      <td>100000.0</td>\n",
       "    </tr>\n",
       "    <tr>\n",
       "      <th>4</th>\n",
       "      <td>85</td>\n",
       "      <td>sdjfs</td>\n",
       "      <td>fjksfj</td>\n",
       "      <td>jfksjf</td>\n",
       "      <td>3423420.0</td>\n",
       "    </tr>\n",
       "    <tr>\n",
       "      <th>5</th>\n",
       "      <td>343</td>\n",
       "      <td>hareker</td>\n",
       "      <td>bba</td>\n",
       "      <td>shakr</td>\n",
       "      <td>43434.0</td>\n",
       "    </tr>\n",
       "    <tr>\n",
       "      <th>6</th>\n",
       "      <td>243</td>\n",
       "      <td>gaurav</td>\n",
       "      <td>bba</td>\n",
       "      <td>sfsf</td>\n",
       "      <td>11342.0</td>\n",
       "    </tr>\n",
       "    <tr>\n",
       "      <th>7</th>\n",
       "      <td>71</td>\n",
       "      <td>tyagi</td>\n",
       "      <td>bca</td>\n",
       "      <td>ip</td>\n",
       "      <td>10000.0</td>\n",
       "    </tr>\n",
       "    <tr>\n",
       "      <th>8</th>\n",
       "      <td>80</td>\n",
       "      <td>rohan</td>\n",
       "      <td>bca</td>\n",
       "      <td>ip</td>\n",
       "      <td>100000.0</td>\n",
       "    </tr>\n",
       "    <tr>\n",
       "      <th>9</th>\n",
       "      <td>890</td>\n",
       "      <td>youri</td>\n",
       "      <td>bba</td>\n",
       "      <td>ip</td>\n",
       "      <td>10000.0</td>\n",
       "    </tr>\n",
       "    <tr>\n",
       "      <th>10</th>\n",
       "      <td>876</td>\n",
       "      <td>booker</td>\n",
       "      <td>bca</td>\n",
       "      <td>ip</td>\n",
       "      <td>10000.0</td>\n",
       "    </tr>\n",
       "    <tr>\n",
       "      <th>11</th>\n",
       "      <td>860</td>\n",
       "      <td>ashmeeet</td>\n",
       "      <td>bba</td>\n",
       "      <td>ip</td>\n",
       "      <td>10000.0</td>\n",
       "    </tr>\n",
       "  </tbody>\n",
       "</table>\n",
       "</div>"
      ],
      "text/plain": [
       "    SID    s_name  course    Address  Scholorship\n",
       "0   101     parth     bca  shakarpur     100000.0\n",
       "1   102   prateek     bba  shakarpur      11000.0\n",
       "2    71     parth     bca  shakarpur      10000.0\n",
       "3    91     manan     bca         ip     100000.0\n",
       "4    85     sdjfs  fjksfj     jfksjf    3423420.0\n",
       "5   343   hareker     bba      shakr      43434.0\n",
       "6   243    gaurav     bba       sfsf      11342.0\n",
       "7    71     tyagi     bca         ip      10000.0\n",
       "8    80     rohan     bca         ip     100000.0\n",
       "9   890     youri     bba         ip      10000.0\n",
       "10  876    booker     bca         ip      10000.0\n",
       "11  860  ashmeeet     bba         ip      10000.0"
      ]
     },
     "execution_count": 68,
     "metadata": {},
     "output_type": "execute_result"
    }
   ],
   "source": [
    "show_records('parth1','student_details')"
   ]
  },
  {
   "cell_type": "code",
   "execution_count": 70,
   "id": "e8d13a1e-ca08-44a2-a444-2d113834d886",
   "metadata": {},
   "outputs": [],
   "source": [
    "conn.close()"
   ]
  },
  {
   "cell_type": "code",
   "execution_count": null,
   "id": "49b734d5-2b77-4a1b-b132-fd5c23c13f3d",
   "metadata": {},
   "outputs": [],
   "source": []
  }
 ],
 "metadata": {
  "kernelspec": {
   "display_name": "Python [conda env:base] *",
   "language": "python",
   "name": "conda-base-py"
  },
  "language_info": {
   "codemirror_mode": {
    "name": "ipython",
    "version": 3
   },
   "file_extension": ".py",
   "mimetype": "text/x-python",
   "name": "python",
   "nbconvert_exporter": "python",
   "pygments_lexer": "ipython3",
   "version": "3.13.5"
  }
 },
 "nbformat": 4,
 "nbformat_minor": 5
}
