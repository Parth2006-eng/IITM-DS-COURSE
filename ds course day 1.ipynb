{
 "cells": [
  {
   "cell_type": "code",
   "execution_count": 1,
   "id": "9acd87af-0c45-4983-bac3-c93e4759f024",
   "metadata": {},
   "outputs": [
    {
     "name": "stdout",
     "output_type": "stream",
     "text": [
      "manan\n"
     ]
    }
   ],
   "source": [
    "print(\"manan\")"
   ]
  },
  {
   "cell_type": "code",
   "execution_count": 2,
   "id": "bfa7664f-1573-408d-953f-f4be36f745a2",
   "metadata": {},
   "outputs": [],
   "source": [
    "a = 5\n"
   ]
  },
  {
   "cell_type": "code",
   "execution_count": 3,
   "id": "bc45c7e4-6280-427a-b265-9e7948a9afa8",
   "metadata": {},
   "outputs": [
    {
     "name": "stdout",
     "output_type": "stream",
     "text": [
      "5\n"
     ]
    }
   ],
   "source": [
    "print(a)"
   ]
  },
  {
   "cell_type": "code",
   "execution_count": 5,
   "id": "62750c58-43cb-4bcd-ab8b-d4704de908ef",
   "metadata": {},
   "outputs": [
    {
     "name": "stdout",
     "output_type": "stream",
     "text": [
      "<class 'int'>\n"
     ]
    }
   ],
   "source": [
    "print(type(a))"
   ]
  },
  {
   "cell_type": "code",
   "execution_count": 7,
   "id": "dad45bc8-ee4e-46c8-9d8b-aa0a86285f1e",
   "metadata": {},
   "outputs": [],
   "source": [
    "import math"
   ]
  },
  {
   "cell_type": "code",
   "execution_count": 8,
   "id": "5fa1074c-207f-44b7-af62-d2270bff6beb",
   "metadata": {},
   "outputs": [],
   "source": [
    "import turtle"
   ]
  },
  {
   "cell_type": "code",
   "execution_count": 11,
   "id": "44a71559-e8f1-4c37-8f4a-e9c1556cbc0c",
   "metadata": {},
   "outputs": [
    {
     "name": "stdout",
     "output_type": "stream",
     "text": [
      "(5+5j) <class 'complex'>\n"
     ]
    }
   ],
   "source": [
    " b  = a +5j\n",
    "print(b,type(b))"
   ]
  },
  {
   "cell_type": "code",
   "execution_count": 12,
   "id": "ac454c6b-2626-4788-9cb2-63c9dc3a6452",
   "metadata": {},
   "outputs": [],
   "source": [
    "d = 'hello'"
   ]
  },
  {
   "cell_type": "code",
   "execution_count": 13,
   "id": "d05c4d5f-067e-4844-bfcf-40b883f24949",
   "metadata": {},
   "outputs": [
    {
     "name": "stdout",
     "output_type": "stream",
     "text": [
      "hello\n"
     ]
    }
   ],
   "source": [
    "print(d)"
   ]
  },
  {
   "cell_type": "code",
   "execution_count": 14,
   "id": "97c1b013-7fcb-41c8-94b6-be24087c77b4",
   "metadata": {},
   "outputs": [
    {
     "name": "stdout",
     "output_type": "stream",
     "text": [
      " this\n",
      "isithe esf sfs\n",
      "dfjdslfjdsflsdjfsf\n"
     ]
    }
   ],
   "source": [
    "poem = ''' this\n",
    "isithe esf sfs\n",
    "dfjdslfjdsflsdjfsf'''\n",
    "print(poem)"
   ]
  },
  {
   "cell_type": "code",
   "execution_count": 18,
   "id": "a813bdbe-779e-47bb-8ec6-fd7b164056e0",
   "metadata": {},
   "outputs": [
    {
     "name": "stdout",
     "output_type": "stream",
     "text": [
      "[1, 2, 3, 4, 5]\n"
     ]
    }
   ],
   "source": [
    "d = [1,2,3,4,5]\n",
    "print(d)"
   ]
  },
  {
   "cell_type": "code",
   "execution_count": 19,
   "id": "45bf1413-0ba8-49b2-a6b2-434c08f74613",
   "metadata": {},
   "outputs": [],
   "source": [
    "d[2] = 8"
   ]
  },
  {
   "cell_type": "code",
   "execution_count": 20,
   "id": "07cffdb8-a64c-4e7b-9389-ae5c31826d1e",
   "metadata": {},
   "outputs": [],
   "source": [
    "de = list(d) "
   ]
  },
  {
   "cell_type": "code",
   "execution_count": 23,
   "id": "4354179e-d12c-45fe-b5c0-9fb003820807",
   "metadata": {},
   "outputs": [
    {
     "name": "stdout",
     "output_type": "stream",
     "text": [
      "<class 'list'>\n"
     ]
    }
   ],
   "source": [
    "print(type(de))\n"
   ]
  },
  {
   "cell_type": "code",
   "execution_count": 25,
   "id": "54542813-1820-4be9-a0bf-843e46e70486",
   "metadata": {},
   "outputs": [],
   "source": [
    "dict = {1:\"parth\",2:\"manan\"}\n"
   ]
  },
  {
   "cell_type": "code",
   "execution_count": null,
   "id": "de0d357d-d024-4b6d-8733-38b1c17c383a",
   "metadata": {},
   "outputs": [],
   "source": []
  },
  {
   "cell_type": "code",
   "execution_count": 26,
   "id": "e2e52726-c0d4-4fa6-923e-c21ea91dfef3",
   "metadata": {},
   "outputs": [
    {
     "ename": "TypeError",
     "evalue": "'int' object is not subscriptable",
     "output_type": "error",
     "traceback": [
      "\u001b[1;31m---------------------------------------------------------------------------\u001b[0m",
      "\u001b[1;31mTypeError\u001b[0m                                 Traceback (most recent call last)",
      "Cell \u001b[1;32mIn[26], line 1\u001b[0m\n\u001b[1;32m----> 1\u001b[0m a[\u001b[38;5;241m2\u001b[39m]\n",
      "\u001b[1;31mTypeError\u001b[0m: 'int' object is not subscriptable"
     ]
    }
   ],
   "source": [
    "a[2]"
   ]
  },
  {
   "cell_type": "code",
   "execution_count": 27,
   "id": "04d3c322-2866-41a3-839e-1ded95aceef8",
   "metadata": {},
   "outputs": [
    {
     "data": {
      "text/plain": [
       "'manan'"
      ]
     },
     "execution_count": 27,
     "metadata": {},
     "output_type": "execute_result"
    }
   ],
   "source": [
    "dict[2]"
   ]
  },
  {
   "cell_type": "code",
   "execution_count": 28,
   "id": "015cb8ee-bd77-4f9c-86db-e4fc7c8a7d13",
   "metadata": {},
   "outputs": [],
   "source": [
    "data = {'Region':[1,2,3,4]}"
   ]
  },
  {
   "cell_type": "code",
   "execution_count": 30,
   "id": "95cd10b2-7ead-49b9-92ea-e7977a357420",
   "metadata": {},
   "outputs": [],
   "source": [
    "dr = data['Region']\n"
   ]
  },
  {
   "cell_type": "code",
   "execution_count": 31,
   "id": "afeab8c0-fb6a-4f59-a1e3-fcee5aae4b02",
   "metadata": {},
   "outputs": [
    {
     "data": {
      "text/plain": [
       "3"
      ]
     },
     "execution_count": 31,
     "metadata": {},
     "output_type": "execute_result"
    }
   ],
   "source": [
    "dr[2]"
   ]
  },
  {
   "cell_type": "code",
   "execution_count": 32,
   "id": "ec7be87a-2ae5-46fb-aff4-28cd7edf482e",
   "metadata": {},
   "outputs": [
    {
     "name": "stdout",
     "output_type": "stream",
     "text": [
      "3\n"
     ]
    }
   ],
   "source": [
    "print(dr[2])"
   ]
  },
  {
   "cell_type": "code",
   "execution_count": 33,
   "id": "fa213a6b-fcaf-474d-aa3c-60c6cf7c13ea",
   "metadata": {},
   "outputs": [
    {
     "ename": "ModuleNotFoundError",
     "evalue": "No module named 'panda'",
     "output_type": "error",
     "traceback": [
      "\u001b[1;31m---------------------------------------------------------------------------\u001b[0m",
      "\u001b[1;31mModuleNotFoundError\u001b[0m                       Traceback (most recent call last)",
      "Cell \u001b[1;32mIn[33], line 1\u001b[0m\n\u001b[1;32m----> 1\u001b[0m \u001b[38;5;28;01mimport\u001b[39;00m\u001b[38;5;250m \u001b[39m\u001b[38;5;21;01mpanda\u001b[39;00m\n",
      "\u001b[1;31mModuleNotFoundError\u001b[0m: No module named 'panda'"
     ]
    }
   ],
   "source": [
    "import panda"
   ]
  },
  {
   "cell_type": "code",
   "execution_count": 34,
   "id": "bfea4983-5f5f-4962-acc4-e3007d2850b8",
   "metadata": {},
   "outputs": [],
   "source": [
    "import pandas as pd"
   ]
  },
  {
   "cell_type": "code",
   "execution_count": 36,
   "id": "18110f82-eac3-4ad3-a7f1-fcd6c7b35339",
   "metadata": {},
   "outputs": [
    {
     "data": {
      "text/html": [
       "<div>\n",
       "<style scoped>\n",
       "    .dataframe tbody tr th:only-of-type {\n",
       "        vertical-align: middle;\n",
       "    }\n",
       "\n",
       "    .dataframe tbody tr th {\n",
       "        vertical-align: top;\n",
       "    }\n",
       "\n",
       "    .dataframe thead th {\n",
       "        text-align: right;\n",
       "    }\n",
       "</style>\n",
       "<table border=\"1\" class=\"dataframe\">\n",
       "  <thead>\n",
       "    <tr style=\"text-align: right;\">\n",
       "      <th></th>\n",
       "      <th>Region</th>\n",
       "    </tr>\n",
       "  </thead>\n",
       "  <tbody>\n",
       "    <tr>\n",
       "      <th>0</th>\n",
       "      <td>1</td>\n",
       "    </tr>\n",
       "    <tr>\n",
       "      <th>1</th>\n",
       "      <td>2</td>\n",
       "    </tr>\n",
       "    <tr>\n",
       "      <th>2</th>\n",
       "      <td>3</td>\n",
       "    </tr>\n",
       "    <tr>\n",
       "      <th>3</th>\n",
       "      <td>4</td>\n",
       "    </tr>\n",
       "  </tbody>\n",
       "</table>\n",
       "</div>"
      ],
      "text/plain": [
       "   Region\n",
       "0       1\n",
       "1       2\n",
       "2       3\n",
       "3       4"
      ]
     },
     "execution_count": 36,
     "metadata": {},
     "output_type": "execute_result"
    }
   ],
   "source": [
    "pd.DataFrame(data)"
   ]
  },
  {
   "cell_type": "code",
   "execution_count": 37,
   "id": "2598cb4a-e9c8-4789-8a0f-52b0259061f2",
   "metadata": {},
   "outputs": [],
   "source": [
    "a = True\n"
   ]
  },
  {
   "cell_type": "code",
   "execution_count": 39,
   "id": "a7277493-5c0a-4df4-8cd3-bd33e756c45f",
   "metadata": {},
   "outputs": [
    {
     "name": "stdout",
     "output_type": "stream",
     "text": [
      "<class 'bool'>\n"
     ]
    }
   ],
   "source": [
    "print(type(a))"
   ]
  },
  {
   "cell_type": "code",
   "execution_count": 46,
   "id": "ad30d968-b106-4b62-bea9-62c9c5712857",
   "metadata": {},
   "outputs": [
    {
     "name": "stdout",
     "output_type": "stream",
     "text": [
      "jjr manager\n"
     ]
    }
   ],
   "source": [
    "s = 6000\n",
    "if(s>=10000):\n",
    "    print(\"manager\")\n",
    "elif(s>=5000):\n",
    "    print(\"jjr manager\")\n",
    "elif():\n",
    "    print(\"unpaid\")\n",
    "    "
   ]
  },
  {
   "cell_type": "code",
   "execution_count": 47,
   "id": "2d0a3f39-2627-41e7-955b-dd8b9432b82a",
   "metadata": {},
   "outputs": [],
   "source": [
    "import random"
   ]
  },
  {
   "cell_type": "code",
   "execution_count": 48,
   "id": "7e64ab89-44f6-4267-a2d0-8092957e9ddc",
   "metadata": {},
   "outputs": [
    {
     "data": {
      "text/plain": [
       "48981"
      ]
     },
     "execution_count": 48,
     "metadata": {},
     "output_type": "execute_result"
    }
   ],
   "source": [
    "random.randint(10000,50000)"
   ]
  },
  {
   "cell_type": "code",
   "execution_count": 49,
   "id": "dbb49b41-b01f-48d6-8216-2eab4d501bd7",
   "metadata": {},
   "outputs": [],
   "source": [
    "import numpy as np"
   ]
  },
  {
   "cell_type": "code",
   "execution_count": 50,
   "id": "a41777a1-069f-4ced-ab1b-fae5edb8dd24",
   "metadata": {},
   "outputs": [
    {
     "data": {
      "text/plain": [
       "array([41788, 35502, 36226], dtype=int32)"
      ]
     },
     "execution_count": 50,
     "metadata": {},
     "output_type": "execute_result"
    }
   ],
   "source": [
    "np.random.randint(10000,50000,3)"
   ]
  },
  {
   "cell_type": "code",
   "execution_count": 12,
   "id": "af8e49e9-3180-45d6-a6e5-8e0164640b95",
   "metadata": {},
   "outputs": [],
   "source": [
    "import time\n",
    "import random\n"
   ]
  },
  {
   "cell_type": "code",
   "execution_count": 13,
   "id": "bb8fe332-9d05-4f23-b733-3a08f3e9ee14",
   "metadata": {},
   "outputs": [],
   "source": [
    "fr = random.randint(1,10)"
   ]
  },
  {
   "cell_type": "code",
   "execution_count": 19,
   "id": "1f27d1d2-370f-4917-b146-562a4386dca2",
   "metadata": {},
   "outputs": [
    {
     "name": "stdout",
     "output_type": "stream",
     "text": [
      "not\"10\n"
     ]
    }
   ],
   "source": [
    "\n",
    "au =2\n",
    "\n",
    "if(fr==au):\n",
    "    print(f'''true{fr}''')\n",
    "else:\n",
    "    print(f'''not\"{fr}''')"
   ]
  },
  {
   "cell_type": "code",
   "execution_count": 30,
   "id": "4be13da7-24a2-49ef-b8b8-22200c6360a9",
   "metadata": {},
   "outputs": [
    {
     "name": "stdout",
     "output_type": "stream",
     "text": [
      "who has most subscribers as of 2025\n",
      "mrbeast\n",
      "pwediepie\n",
      "dude perfect\n",
      "tseries\n"
     ]
    },
    {
     "name": "stdin",
     "output_type": "stream",
     "text": [
      "use 50-50 yes\n"
     ]
    },
    {
     "name": "stdout",
     "output_type": "stream",
     "text": [
      "dude perfect\n",
      "dude perfect\n"
     ]
    },
    {
     "name": "stdin",
     "output_type": "stream",
     "text": [
      "enter the answer mrbeast\n"
     ]
    },
    {
     "name": "stdout",
     "output_type": "stream",
     "text": [
      "right\n"
     ]
    }
   ],
   "source": [
    "import numpy as np\n",
    "question = \"who has most subscribers as of 2025\"\n",
    "options = [\"mrbeast\",\"pwediepie\",\"dude perfect\",\"tseries\"]\n",
    "answer = options[0]\n",
    "print(question)\n",
    "for i in range(4):\n",
    "    print(options[i])\n",
    "d = input(\"use 50-50\")\n",
    "\n",
    "\n",
    "if(d==\"yes\"):\n",
    "    first = np.random.randint(0,4,2)\n",
    "    print(options[first[0]])\n",
    "    print(options[first[1]])\n",
    "\n",
    "c = input(\"enter the answer\")\n",
    "\n",
    "    \n",
    "    \n",
    "\n",
    "if(c==answer):\n",
    "    print(\"right\")\n",
    "else:\n",
    "    print(\"worng\")"
   ]
  },
  {
   "cell_type": "code",
   "execution_count": 33,
   "id": "ecd300bf-3b04-4faa-923b-c476512420e4",
   "metadata": {},
   "outputs": [
    {
     "name": "stdin",
     "output_type": "stream",
     "text": [
      "enter your age 21\n"
     ]
    },
    {
     "name": "stdout",
     "output_type": "stream",
     "text": [
      "you can vote\n"
     ]
    }
   ],
   "source": [
    "def age(a):\n",
    "    if(a>=18):\n",
    "        print(\"you can vote\")\n",
    "    else:\n",
    "        print(\"you cannot vote\")Z\n",
    "a = int(input(\"enter your age\"))\n",
    "age(a)\n"
   ]
  },
  {
   "cell_type": "code",
   "execution_count": 35,
   "id": "ebc90338-4452-443c-8c3f-71901ef9aa43",
   "metadata": {},
   "outputs": [
    {
     "name": "stdin",
     "output_type": "stream",
     "text": [
      "enter your age 17\n"
     ]
    },
    {
     "name": "stdout",
     "output_type": "stream",
     "text": [
      "cannot\n"
     ]
    }
   ],
   "source": [
    "def age(a):\n",
    "    print(\"you can vote\") if a>=18 else print(\"cannot\")\n",
    "a = int(input(\"enter your age\"))\n",
    "age(a)"
   ]
  },
  {
   "cell_type": "code",
   "execution_count": 36,
   "id": "62258f76-c7ed-492e-a663-945927bc655e",
   "metadata": {},
   "outputs": [
    {
     "ename": "ModuleNotFoundError",
     "evalue": "No module named 'pygame'",
     "output_type": "error",
     "traceback": [
      "\u001b[1;31m---------------------------------------------------------------------------\u001b[0m",
      "\u001b[1;31mModuleNotFoundError\u001b[0m                       Traceback (most recent call last)",
      "Cell \u001b[1;32mIn[36], line 1\u001b[0m\n\u001b[1;32m----> 1\u001b[0m \u001b[38;5;28;01mimport\u001b[39;00m\u001b[38;5;250m \u001b[39m\u001b[38;5;21;01mpygame\u001b[39;00m\n",
      "\u001b[1;31mModuleNotFoundError\u001b[0m: No module named 'pygame'"
     ]
    }
   ],
   "source": [
    "import pygame\n"
   ]
  },
  {
   "cell_type": "code",
   "execution_count": 37,
   "id": "a945d881-2bed-4830-85fa-5e563df99e06",
   "metadata": {},
   "outputs": [
    {
     "name": "stdout",
     "output_type": "stream",
     "text": [
      "Note: you may need to restart the kernel to use updated packages.\n"
     ]
    },
    {
     "name": "stderr",
     "output_type": "stream",
     "text": [
      "WARNING: Retrying (Retry(total=4, connect=None, read=None, redirect=None, status=None)) after connection broken by 'NewConnectionError('<pip._vendor.urllib3.connection.HTTPSConnection object at 0x000001BBB5C878C0>: Failed to establish a new connection: [Errno 11001] getaddrinfo failed')': /simple/pygame/\n",
      "WARNING: Retrying (Retry(total=3, connect=None, read=None, redirect=None, status=None)) after connection broken by 'NewConnectionError('<pip._vendor.urllib3.connection.HTTPSConnection object at 0x000001BBB5E6C410>: Failed to establish a new connection: [Errno 11001] getaddrinfo failed')': /simple/pygame/\n",
      "WARNING: Retrying (Retry(total=2, connect=None, read=None, redirect=None, status=None)) after connection broken by 'NewConnectionError('<pip._vendor.urllib3.connection.HTTPSConnection object at 0x000001BBB5E6C690>: Failed to establish a new connection: [Errno 11001] getaddrinfo failed')': /simple/pygame/\n",
      "WARNING: Retrying (Retry(total=1, connect=None, read=None, redirect=None, status=None)) after connection broken by 'NewConnectionError('<pip._vendor.urllib3.connection.HTTPSConnection object at 0x000001BBB5E6C910>: Failed to establish a new connection: [Errno 11001] getaddrinfo failed')': /simple/pygame/\n",
      "WARNING: Retrying (Retry(total=0, connect=None, read=None, redirect=None, status=None)) after connection broken by 'NewConnectionError('<pip._vendor.urllib3.connection.HTTPSConnection object at 0x000001BBB5E6CB90>: Failed to establish a new connection: [Errno 11001] getaddrinfo failed')': /simple/pygame/\n",
      "ERROR: Could not find a version that satisfies the requirement pygame (from versions: none)\n",
      "ERROR: No matching distribution found for pygame\n"
     ]
    }
   ],
   "source": [
    "pip install pygame\n"
   ]
  },
  {
   "cell_type": "code",
   "execution_count": 1,
   "id": "8400b152-11a2-4b55-b0aa-9e681f6d8e64",
   "metadata": {},
   "outputs": [
    {
     "name": "stdout",
     "output_type": "stream",
     "text": [
      "Collecting pygame\n",
      "  Downloading pygame-2.6.1-cp313-cp313-win_amd64.whl.metadata (13 kB)\n",
      "Downloading pygame-2.6.1-cp313-cp313-win_amd64.whl (10.6 MB)\n",
      "   ---------------------------------------- 0.0/10.6 MB ? eta -:--:--\n",
      "   ---------------------------------------- 0.0/10.6 MB ? eta -:--:--\n",
      "    --------------------------------------- 0.3/10.6 MB ? eta -:--:--\n",
      "    --------------------------------------- 0.3/10.6 MB ? eta -:--:--\n",
      "   - -------------------------------------- 0.5/10.6 MB 764.9 kB/s eta 0:00:14\n",
      "   - -------------------------------------- 0.5/10.6 MB 764.9 kB/s eta 0:00:14\n",
      "   -- ------------------------------------- 0.8/10.6 MB 720.1 kB/s eta 0:00:14\n",
      "   --- ------------------------------------ 1.0/10.6 MB 766.8 kB/s eta 0:00:13\n",
      "   --- ------------------------------------ 1.0/10.6 MB 766.8 kB/s eta 0:00:13\n",
      "   ---- ----------------------------------- 1.3/10.6 MB 767.7 kB/s eta 0:00:13\n",
      "   ---- ----------------------------------- 1.3/10.6 MB 767.7 kB/s eta 0:00:13\n",
      "   ----- ---------------------------------- 1.6/10.6 MB 754.1 kB/s eta 0:00:12\n",
      "   ------ --------------------------------- 1.8/10.6 MB 813.1 kB/s eta 0:00:11\n",
      "   ------- -------------------------------- 2.1/10.6 MB 818.1 kB/s eta 0:00:11\n",
      "   -------- ------------------------------- 2.4/10.6 MB 835.5 kB/s eta 0:00:10\n",
      "   -------- ------------------------------- 2.4/10.6 MB 835.5 kB/s eta 0:00:10\n",
      "   -------- ------------------------------- 2.4/10.6 MB 835.5 kB/s eta 0:00:10\n",
      "   --------- ------------------------------ 2.6/10.6 MB 795.5 kB/s eta 0:00:11\n",
      "   --------- ------------------------------ 2.6/10.6 MB 795.5 kB/s eta 0:00:11\n",
      "   --------- ------------------------------ 2.6/10.6 MB 795.5 kB/s eta 0:00:11\n",
      "   ---------- ----------------------------- 2.9/10.6 MB 712.8 kB/s eta 0:00:11\n",
      "   ----------- ---------------------------- 3.1/10.6 MB 747.9 kB/s eta 0:00:10\n",
      "   ------------ --------------------------- 3.4/10.6 MB 757.7 kB/s eta 0:00:10\n",
      "   ------------- -------------------------- 3.7/10.6 MB 805.4 kB/s eta 0:00:09\n",
      "   --------------- ------------------------ 4.2/10.6 MB 848.7 kB/s eta 0:00:08\n",
      "   ---------------- ----------------------- 4.5/10.6 MB 884.0 kB/s eta 0:00:07\n",
      "   ------------------ --------------------- 5.0/10.6 MB 934.6 kB/s eta 0:00:07\n",
      "   ------------------- -------------------- 5.2/10.6 MB 957.1 kB/s eta 0:00:06\n",
      "   -------------------- ------------------- 5.5/10.6 MB 962.2 kB/s eta 0:00:06\n",
      "   --------------------- ------------------ 5.8/10.6 MB 985.1 kB/s eta 0:00:05\n",
      "   ----------------------- ---------------- 6.3/10.6 MB 1.0 MB/s eta 0:00:05\n",
      "   ------------------------ --------------- 6.6/10.6 MB 1.0 MB/s eta 0:00:04\n",
      "   ------------------------- -------------- 6.8/10.6 MB 1.0 MB/s eta 0:00:04\n",
      "   -------------------------- ------------- 7.1/10.6 MB 1.1 MB/s eta 0:00:04\n",
      "   --------------------------- ------------ 7.3/10.6 MB 1.1 MB/s eta 0:00:04\n",
      "   ----------------------------- ---------- 7.9/10.6 MB 1.1 MB/s eta 0:00:03\n",
      "   ------------------------------ --------- 8.1/10.6 MB 1.1 MB/s eta 0:00:03\n",
      "   -------------------------------- ------- 8.7/10.6 MB 1.1 MB/s eta 0:00:02\n",
      "   --------------------------------- ------ 8.9/10.6 MB 1.2 MB/s eta 0:00:02\n",
      "   ---------------------------------- ----- 9.2/10.6 MB 1.2 MB/s eta 0:00:02\n",
      "   ------------------------------------ --- 9.7/10.6 MB 1.2 MB/s eta 0:00:01\n",
      "   ------------------------------------- -- 10.0/10.6 MB 1.2 MB/s eta 0:00:01\n",
      "   -------------------------------------- - 10.2/10.6 MB 1.2 MB/s eta 0:00:01\n",
      "   ---------------------------------------  10.5/10.6 MB 1.2 MB/s eta 0:00:01\n",
      "   ---------------------------------------  10.5/10.6 MB 1.2 MB/s eta 0:00:01\n",
      "   ---------------------------------------- 10.6/10.6 MB 1.2 MB/s eta 0:00:00\n",
      "Installing collected packages: pygame\n",
      "Successfully installed pygame-2.6.1\n",
      "Note: you may need to restart the kernel to use updated packages.\n"
     ]
    }
   ],
   "source": [
    "pip install pygame"
   ]
  },
  {
   "cell_type": "code",
   "execution_count": null,
   "id": "bf59731e-24a0-441b-bb96-442a72b43c5a",
   "metadata": {},
   "outputs": [],
   "source": []
  }
 ],
 "metadata": {
  "kernelspec": {
   "display_name": "Python [conda env:base] *",
   "language": "python",
   "name": "conda-base-py"
  },
  "language_info": {
   "codemirror_mode": {
    "name": "ipython",
    "version": 3
   },
   "file_extension": ".py",
   "mimetype": "text/x-python",
   "name": "python",
   "nbconvert_exporter": "python",
   "pygments_lexer": "ipython3",
   "version": "3.13.5"
  }
 },
 "nbformat": 4,
 "nbformat_minor": 5
}
